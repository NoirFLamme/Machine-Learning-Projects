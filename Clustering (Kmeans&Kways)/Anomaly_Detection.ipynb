{
  "nbformat": 4,
  "nbformat_minor": 0,
  "metadata": {
    "colab": {
      "provenance": []
    },
    "kernelspec": {
      "name": "python3",
      "display_name": "Python 3"
    },
    "language_info": {
      "name": "python"
    }
  },
  "cells": [
    {
      "cell_type": "code",
      "execution_count": null,
      "metadata": {
        "id": "RIFFiLmf_kJD"
      },
      "outputs": [],
      "source": [
        "import pandas as pd\n",
        "import numpy as np\n",
        "from copy import deepcopy\n",
        "from sklearn.cluster import KMeans\n",
        "import scipy as sc\n",
        "from sklearn.metrics.pairwise import rbf_kernel as rbf\n",
        "from sklearn.preprocessing import normalize\n",
        "from sklearn.model_selection import train_test_split\n",
        "from sklearn.decomposition import PCA\n",
        "import matplotlib.pyplot as plt\n",
        "from IPython.display import clear_output\n",
        "from sklearn.metrics.cluster import pair_confusion_matrix\n",
        "import math\n",
        "import warnings"
      ]
    },
    {
      "cell_type": "code",
      "source": [
        "from google.colab import drive\n",
        "drive.mount('/content/drive', force_remount=True)"
      ],
      "metadata": {
        "colab": {
          "base_uri": "https://localhost:8080/"
        },
        "id": "ObcBQsZsMFu1",
        "outputId": "3ef80795-8442-4fea-d98c-4c5b648d5a9e"
      },
      "execution_count": null,
      "outputs": [
        {
          "output_type": "stream",
          "name": "stdout",
          "text": [
            "Mounted at /content/drive\n"
          ]
        }
      ]
    },
    {
      "cell_type": "markdown",
      "source": [
        "# Splitting The Data\n",
        "The data is initially split to 6 partitions:\n",
        "- 10% Training Data and its labels.\n",
        "- Correction Testing Data and its labels.\n",
        "- Full Data for Spectral Clustering and its labels."
      ],
      "metadata": {
        "id": "m3P5YU_o43pe"
      }
    },
    {
      "cell_type": "code",
      "source": [
        "def loadData():\n",
        "  trainingData =  pd.read_csv('drive/MyDrive/Anomaly Detection Data/kddcup.data_10_percent', sep=\",\", header = None)\n",
        "  trainingDataSpectral =  pd.read_csv('drive/MyDrive/Anomaly Detection Data/kddcup.data/kddcup.data', sep=\",\", header = None)\n",
        "  testingData = pd.read_csv('drive/MyDrive/Anomaly Detection Data/corrected/corrected', sep=\",\", header = None)\n",
        "  stringCols = [1, 2, 3, 41]\n",
        "  for i in stringCols:\n",
        "    trainingData[i] = pd.factorize(trainingData[i])[0]\n",
        "    testingData[i] = pd.factorize(testingData[i])[0]\n",
        "    trainingDataSpectral[i] = pd.factorize(trainingDataSpectral[i])[0]\n",
        "  \n",
        "  return trainingData.loc[:,0:40], trainingData.loc[:, 41:], testingData.loc[:,0:40], testingData.loc[:, 41:], trainingDataSpectral"
      ],
      "metadata": {
        "id": "KgbFRCbMvJxK"
      },
      "execution_count": null,
      "outputs": []
    },
    {
      "cell_type": "code",
      "source": [
        "trainingData, trainingLabels, testingData, testingLabels, totalDataSpectral = loadData()"
      ],
      "metadata": {
        "id": "PGEIwV0wmcwc"
      },
      "execution_count": null,
      "outputs": []
    },
    {
      "cell_type": "markdown",
      "source": [
        "The following subsidiary function reduces the dimensions of our clustering so that we can visualize it. \\\n",
        "Source is [here](https://github.com/dataquestio/project-walkthroughs/blob/master/kmeans/clustering.ipynb)."
      ],
      "metadata": {
        "id": "Dz1ods1f4u81"
      }
    },
    {
      "cell_type": "code",
      "source": [
        "def plot_clusters(data, labels, centroids, iteration):\n",
        "    pca = PCA(n_components=2)\n",
        "    data_2d = pca.fit_transform(data)\n",
        "    centroids_2d = pca.transform(centroids.T)\n",
        "    clear_output(wait=True)\n",
        "    plt.title(f'Iteration {iteration}')\n",
        "    plt.scatter(x=data_2d[:,0], y=data_2d[:,1], c=labels)\n",
        "    plt.scatter(x=centroids_2d[:,0], y=centroids_2d[:,1])\n",
        "    plt.show()"
      ],
      "metadata": {
        "id": "Pxt6epBWQfJN"
      },
      "execution_count": null,
      "outputs": []
    },
    {
      "cell_type": "code",
      "source": [
        "def conditionalEntropy(predictedLabels, trueLabels, K):\n",
        "  predictedLabeledClusters = [[] for _ in range(K)]\n",
        "  for i in range(len(predictedLabels)):\n",
        "      predictedLabeledClusters[predictedLabels[i]].append(trueLabels[i])\n",
        "          \n",
        "  entropy = np.zeros(K)\n",
        "  N = 0\n",
        "\n",
        "  for i in range(len(predictedLabeledClusters)):\n",
        "    N += len(predictedLabeledClusters[i])\n",
        "    count = np.zeros(K)\n",
        "    for j in range(len(predictedLabeledClusters)):\n",
        "      for k in range(len(predictedLabeledClusters[i])):\n",
        "        if j == predictedLabeledClusters[i][k]:\n",
        "          count[j] += 1\n",
        "    for j in range(len(predictedLabeledClusters)):     \n",
        "      if count[j] != 0:\n",
        "        entropy[i] += (- count[j]/len(predictedLabeledClusters[i])) * math.log(count[j]/len(predictedLabeledClusters[i]))\n",
        "\n",
        "  totalEntropy = 0\n",
        "  for i in range(len(predictedLabeledClusters)):\n",
        "    totalEntropy += (len(predictedLabeledClusters[i]) / N) * entropy[i]\n",
        "\n",
        "  return totalEntropy"
      ],
      "metadata": {
        "id": "Mp1r55xYpkKl"
      },
      "execution_count": null,
      "outputs": []
    },
    {
      "cell_type": "code",
      "source": [
        "def checkClustering(resultingLabels, trueLabels, K):\n",
        "  confusionMat = pair_confusion_matrix(trueLabels, resultingLabels)\n",
        "  precision = confusionMat[1][1] / (confusionMat[1][1] + confusionMat[0][1])\n",
        "  recall = confusionMat[1][1] / (confusionMat[1][1] + confusionMat[1][0])\n",
        "  f1score = 2 * precision * recall / (precision + recall)\n",
        "  print(\"Precision Score: \" , precision)\n",
        "  print(\"Recall Score: \" , recall)\n",
        "  print(\"F Score: \" , f1score)\n",
        "  print(\"Conditional Entropy: \" , conditionalEntropy(resultingLabels, trueLabels, K))"
      ],
      "metadata": {
        "id": "sA4REakGQLJf"
      },
      "execution_count": null,
      "outputs": []
    },
    {
      "cell_type": "markdown",
      "source": [
        "# K-Means\n",
        "The following function applies K-Means clustering algorithm on our data with a given K value, and uses an epsilon + a given number of iterations to know when to stop. \\\n"
      ],
      "metadata": {
        "id": "XrMTkrFc5km9"
      }
    },
    {
      "cell_type": "code",
      "source": [
        "def kMeans(data, k, epsilon, iterations):\n",
        "  n_rows = data.shape[0]\n",
        "  random_idx = np.random.RandomState(42).permutation(n_rows)\n",
        "  centroids = data[random_idx[:k]]\n",
        "  clusters = np.zeros(n_rows)\n",
        "  proximityMatrix = np.zeros((n_rows, k))\n",
        "  delta = np.inf\n",
        "  iteration = 0\n",
        "  while delta > epsilon and iteration < iterations:\n",
        "    for i in range(k):\n",
        "      proximityMatrix[:,i] = np.linalg.norm(data - centroids[i], axis=1)\n",
        "      \n",
        "    clusters = np.argmin(proximityMatrix, axis = 1)\n",
        "\n",
        "    # plot_clusters(data[:,0:k], clusters, centroids, iteration)\n",
        "    iteration += 1\n",
        "    old_centroids = deepcopy(centroids)\n",
        "    \n",
        "    for i in range(k):\n",
        "      centroids[i,:] = np.mean(data[clusters == i,:], axis = 0)\n",
        "      if np.isnan(centroids).any():\n",
        "        centroids[i] = old_centroids[i]\n",
        "\n",
        "    delta = np.linalg.norm(centroids - old_centroids)\n",
        "  \n",
        "  return clusters, centroids"
      ],
      "metadata": {
        "id": "-ADlxy51JVcl"
      },
      "execution_count": null,
      "outputs": []
    },
    {
      "cell_type": "code",
      "source": [
        "def predict(centroids, data):\n",
        "  k = len(centroids)\n",
        "  n = data.shape[0]\n",
        "  proximityMatrix = np.zeros((n, k))\n",
        "  for i in range(k):\n",
        "    proximityMatrix[:,i] = np.linalg.norm(data - centroids[i], axis=1)\n",
        "  predicted_labels = np.argmin(proximityMatrix, axis=1)\n",
        "  return predicted_labels"
      ],
      "metadata": {
        "id": "PeivYWB2dPTn"
      },
      "execution_count": null,
      "outputs": []
    },
    {
      "cell_type": "markdown",
      "source": [
        "## For K = 7"
      ],
      "metadata": {
        "id": "YhNsYkZ353u0"
      }
    },
    {
      "cell_type": "code",
      "source": [
        "clusteringResults = []\n",
        "centroidsResults = []\n",
        "kArray = [7, 15, 23, 31, 45]\n",
        "\n",
        "clusters, centroids = kMeans(trainingData.to_numpy(), 7, 0.001, 200)\n",
        "clusteringResults.append(clusters)\n",
        "centroidsResults.append(centroids)\n"
      ],
      "metadata": {
        "id": "fQjb7NUA9-Yb",
        "colab": {
          "base_uri": "https://localhost:8080/"
        },
        "outputId": "62754021-de7e-4345-ba87-d1cf90413b06"
      },
      "execution_count": null,
      "outputs": [
        {
          "output_type": "stream",
          "name": "stderr",
          "text": [
            "/usr/local/lib/python3.9/dist-packages/numpy/core/fromnumeric.py:3474: RuntimeWarning: Mean of empty slice.\n",
            "  return _methods._mean(a, axis=axis, dtype=dtype,\n",
            "/usr/local/lib/python3.9/dist-packages/numpy/core/_methods.py:181: RuntimeWarning: invalid value encountered in true_divide\n",
            "  ret = um.true_divide(\n"
          ]
        }
      ]
    },
    {
      "cell_type": "code",
      "source": [
        "checkClustering(clusters, trainingLabels.to_numpy()[:,0], 7)"
      ],
      "metadata": {
        "colab": {
          "base_uri": "https://localhost:8080/"
        },
        "id": "_YicUvIBweBQ",
        "outputId": "efd67f8c-f85c-4c8f-cbb0-fe2732cc2e4c"
      },
      "execution_count": null,
      "outputs": [
        {
          "output_type": "stream",
          "name": "stdout",
          "text": [
            "Precision Score:  0.4129711548896276\n",
            "Recall Score:  0.9994729305334826\n",
            "F Score:  0.5844528568076929\n",
            "Conditional Entropy:  0.9699993565789685\n"
          ]
        }
      ]
    },
    {
      "cell_type": "markdown",
      "source": [
        "## For K = 15"
      ],
      "metadata": {
        "id": "ANyfDBc257VM"
      }
    },
    {
      "cell_type": "code",
      "source": [
        "clusters, centroids = kMeans(trainingData.to_numpy(), 15, 0.001, 200)\n",
        "clusteringResults.append(clusters)\n",
        "centroidsResults.append(centroids)"
      ],
      "metadata": {
        "colab": {
          "base_uri": "https://localhost:8080/"
        },
        "id": "V6GtzkS4TQDT",
        "outputId": "37f5156c-9757-45f4-a3c5-1f14d63fa7ca"
      },
      "execution_count": null,
      "outputs": [
        {
          "output_type": "stream",
          "name": "stderr",
          "text": [
            "/usr/local/lib/python3.9/dist-packages/numpy/core/fromnumeric.py:3474: RuntimeWarning: Mean of empty slice.\n",
            "  return _methods._mean(a, axis=axis, dtype=dtype,\n",
            "/usr/local/lib/python3.9/dist-packages/numpy/core/_methods.py:181: RuntimeWarning: invalid value encountered in true_divide\n",
            "  ret = um.true_divide(\n"
          ]
        }
      ]
    },
    {
      "cell_type": "code",
      "source": [
        "checkClustering(clusters, trainingLabels.to_numpy()[:,0], 15)"
      ],
      "metadata": {
        "colab": {
          "base_uri": "https://localhost:8080/"
        },
        "id": "ZPVFUWEk4VoL",
        "outputId": "f8807b75-694d-4309-a4ce-611004b0c841"
      },
      "execution_count": null,
      "outputs": [
        {
          "output_type": "stream",
          "name": "stdout",
          "text": [
            "Precision Score:  0.7635707073254366\n",
            "Recall Score:  0.7240546260877776\n",
            "F Score:  0.7432878300285443\n",
            "Conditional Entropy:  0.38024670541929567\n"
          ]
        }
      ]
    },
    {
      "cell_type": "markdown",
      "source": [
        "## For K = 23"
      ],
      "metadata": {
        "id": "azk8lhdp5-Ur"
      }
    },
    {
      "cell_type": "code",
      "source": [
        "clusters, centroids = kMeans(trainingData.to_numpy(), 23, 0.001, 200)\n",
        "clusteringResults.append(clusters)\n",
        "centroidsResults.append(centroids)"
      ],
      "metadata": {
        "id": "6oR-B9OHTP6y"
      },
      "execution_count": null,
      "outputs": []
    },
    {
      "cell_type": "code",
      "source": [
        "checkClustering(clusters, trainingLabels.to_numpy()[:,0], 23)"
      ],
      "metadata": {
        "colab": {
          "base_uri": "https://localhost:8080/"
        },
        "id": "S50y3KYQ4X3L",
        "outputId": "e28b0ee8-7ada-4022-ec01-f36a591b4629"
      },
      "execution_count": null,
      "outputs": [
        {
          "output_type": "stream",
          "name": "stdout",
          "text": [
            "Precision Score:  0.8212840056699517\n",
            "Recall Score:  0.6917162397121144\n",
            "F Score:  0.7509522696663742\n",
            "Conditional Entropy:  0.3053563932327014\n"
          ]
        }
      ]
    },
    {
      "cell_type": "markdown",
      "source": [
        "## For K = 31"
      ],
      "metadata": {
        "id": "bNEd3E2f6A3s"
      }
    },
    {
      "cell_type": "code",
      "source": [
        "clusters, centroids = kMeans(trainingData.to_numpy(), 31, 0.001, 200)\n",
        "clusteringResults.append(clusters)\n",
        "centroidsResults.append(centroids)"
      ],
      "metadata": {
        "id": "DEusZKE5TPkC"
      },
      "execution_count": null,
      "outputs": []
    },
    {
      "cell_type": "code",
      "source": [
        "checkClustering(clusters, trainingLabels.to_numpy()[:,0], 31)"
      ],
      "metadata": {
        "colab": {
          "base_uri": "https://localhost:8080/"
        },
        "id": "-Vm_bIyc4Z_S",
        "outputId": "c67da353-c0d6-4c8a-9adb-41bf11533203"
      },
      "execution_count": null,
      "outputs": [
        {
          "output_type": "stream",
          "name": "stdout",
          "text": [
            "Precision Score:  0.8738977287205428\n",
            "Recall Score:  0.6725591352273431\n",
            "F Score:  0.7601219463761701\n",
            "Conditional Entropy:  0.23864945903152385\n"
          ]
        }
      ]
    },
    {
      "cell_type": "markdown",
      "source": [
        "## For K = 45"
      ],
      "metadata": {
        "id": "IrE_ttuR6D-M"
      }
    },
    {
      "cell_type": "code",
      "source": [
        "clusters, centroids = kMeans(trainingData.to_numpy(), 45, 0.001, 200)\n",
        "clusteringResults.append(clusters)\n",
        "centroidsResults.append(centroids)"
      ],
      "metadata": {
        "id": "t_oT5etZTPV7"
      },
      "execution_count": null,
      "outputs": []
    },
    {
      "cell_type": "code",
      "source": [
        "checkClustering(clusters, trainingLabels.to_numpy()[:,0], 45)"
      ],
      "metadata": {
        "colab": {
          "base_uri": "https://localhost:8080/"
        },
        "id": "XqIqC0-Y4buD",
        "outputId": "fbd6507e-d47c-4d03-ffb0-ca13a0f38c8d"
      },
      "execution_count": null,
      "outputs": [
        {
          "output_type": "stream",
          "name": "stdout",
          "text": [
            "Precision Score:  0.9754999969715636\n",
            "Recall Score:  0.6610362086993504\n",
            "F Score:  0.7880556719121915\n",
            "Conditional Entropy:  0.0977794619613127\n"
          ]
        }
      ]
    },
    {
      "cell_type": "code",
      "source": [
        "warnings.filterwarnings(\"ignore\")\n",
        "actual_labels = testingLabels.to_numpy().flatten()\n",
        "for k in kArray:\n",
        "  clusters, centroids = kMeans(trainingData.to_numpy(), k, 0.001, 200)\n",
        "  predicted_labels = predict(centroids, testingData)\n",
        "  print(f'K-Means with k={k}')\n",
        "  checkClustering(predicted_labels, actual_labels, k)\n",
        "  print()"
      ],
      "metadata": {
        "colab": {
          "base_uri": "https://localhost:8080/"
        },
        "id": "LxoqxZgcjxLF",
        "outputId": "cf58f793-f84b-4b47-f16f-dc821a847332"
      },
      "execution_count": null,
      "outputs": [
        {
          "output_type": "stream",
          "name": "stdout",
          "text": [
            "K-Means with k=7\n",
            "Precision Score:  0.35724224700025636\n",
            "Recall Score:  0.9994639263064989\n",
            "F Score:  0.5263493980559961\n",
            "Conditional Entropy:  0.7512333969826389\n",
            "\n",
            "K-Means with k=15\n",
            "Precision Score:  0.6311021489567514\n",
            "Recall Score:  0.6146898689806143\n",
            "F Score:  0.6227878998581184\n",
            "Conditional Entropy:  0.3720591818015853\n",
            "\n",
            "K-Means with k=23\n",
            "Precision Score:  0.6227486330572504\n",
            "Recall Score:  0.4462170403306566\n",
            "F Score:  0.5199064082798301\n",
            "Conditional Entropy:  0.3981877037228226\n",
            "\n",
            "K-Means with k=31\n",
            "Precision Score:  0.7286580436816733\n",
            "Recall Score:  0.42186554122561254\n",
            "F Score:  0.5343579636239033\n",
            "Conditional Entropy:  0.42213098103853636\n",
            "\n",
            "K-Means with k=45\n",
            "Precision Score:  0.9218192366460805\n",
            "Recall Score:  0.36134602791237447\n",
            "F Score:  0.5191782053575126\n",
            "Conditional Entropy:  0.24592909396855236\n",
            "\n"
          ]
        }
      ]
    },
    {
      "cell_type": "markdown",
      "source": [
        "# Generating Our Test Bed\n",
        "Since the data is relatively huge and can't be processed with our current resources, we have to take a portion of it."
      ],
      "metadata": {
        "id": "lyNg_MVw9BVj"
      }
    },
    {
      "cell_type": "code",
      "source": [
        "X_train_spectral, _ = train_test_split( totalDataSpectral, train_size=0.0015, random_state=42)\n",
        "X_train_meanShift, _ = train_test_split( totalDataSpectral, train_size=0.00015, random_state=42)\n",
        "print(X_train_spectral.shape)\n",
        "print(X_train_meanShift.shape)\n",
        "\n",
        "\n",
        "spectral_train = X_train_spectral.loc[:,0:40]\n",
        "spectral_labels = X_train_spectral.loc[:, 41:]\n",
        "meanShift_train = X_train_meanShift.loc[:,0:40]\n",
        "meanShift_labels = X_train_meanShift.loc[:, 41:]\n",
        "\n",
        "print(spectral_train.shape)\n",
        "print(spectral_labels.shape)\n",
        "print(meanShift_train.shape)\n",
        "print(meanShift_labels.shape)\n",
        "print(meanShift_labels)"
      ],
      "metadata": {
        "id": "q0a7jjsG8z3a",
        "colab": {
          "base_uri": "https://localhost:8080/"
        },
        "outputId": "cd81f9f3-dcca-4729-c9f2-a752b9b05495"
      },
      "execution_count": null,
      "outputs": [
        {
          "output_type": "stream",
          "name": "stdout",
          "text": [
            "(7347, 42)\n",
            "(734, 42)\n",
            "\n",
            "(7347, 41)\n",
            "(7347, 1)\n",
            "(734, 41)\n",
            "(734, 1)\n",
            "         41\n",
            "3125354   5\n",
            "2283869   5\n",
            "1222869   4\n",
            "4068472   5\n",
            "2906158   5\n",
            "...      ..\n",
            "1136074   4\n",
            "1570006   5\n",
            "2234489   5\n",
            "4304572   5\n",
            "1692743   5\n",
            "\n",
            "[734 rows x 1 columns]\n"
          ]
        }
      ]
    },
    {
      "cell_type": "markdown",
      "source": [
        "# Spectral Clustering Using K-Ways Normalized Cut\n"
      ],
      "metadata": {
        "id": "eAjFygz19Ri5"
      }
    },
    {
      "cell_type": "code",
      "source": [
        "def SpectralClustering(data, clustersNumber, gammaValue = 1):\n",
        "    similarityMatrix = rbf(data,gamma=gammaValue)\n",
        "    degreeMatrix = np.diag(np.sum(similarityMatrix, axis=1))\n",
        "    laplacianMatrix = degreeMatrix - similarityMatrix\n",
        "    normAsymLaplacianMatrix = np.dot(sc.linalg.inv(degreeMatrix), laplacianMatrix) \n",
        "    eigenValues,eigenVectors = sc.linalg.eig(normAsymLaplacianMatrix)\n",
        "    eigenValues =  np.abs(np.real(eigenValues))\n",
        "    eigenVectors = np.real(eigenVectors)\n",
        "    sort_perm = eigenValues.argsort()\n",
        "    eigenValues = eigenValues[sort_perm]\n",
        "    eigenVectors = eigenVectors[:, sort_perm]\n",
        "    eigenValues = eigenValues[:clustersNumber]\n",
        "    U = eigenVectors[:, :clustersNumber]\n",
        "    Y = normalize(U, axis=1)\n",
        "    labels = KMeans(n_clusters=clustersNumber,  n_init=\"auto\", random_state=42).fit_predict(Y)\n",
        "    return eigenValues, Y, labels"
      ],
      "metadata": {
        "id": "HwXFdAecy3yh"
      },
      "execution_count": null,
      "outputs": []
    },
    {
      "cell_type": "markdown",
      "source": [
        "Compute K means at K = 23 with the spectral clustering data"
      ],
      "metadata": {
        "id": "vkdmX_f56HAV"
      }
    },
    {
      "cell_type": "code",
      "source": [
        "clusters, centroids = kMeans(spectral_train.to_numpy(), 11, 0.1, 100)"
      ],
      "metadata": {
        "id": "la4FxNMmYuCD",
        "colab": {
          "base_uri": "https://localhost:8080/"
        },
        "outputId": "bf577994-daf6-4da3-cb6d-c8c8a0fd5d96"
      },
      "execution_count": null,
      "outputs": [
        {
          "output_type": "stream",
          "name": "stderr",
          "text": [
            "/usr/local/lib/python3.9/dist-packages/numpy/core/fromnumeric.py:3474: RuntimeWarning: Mean of empty slice.\n",
            "  return _methods._mean(a, axis=axis, dtype=dtype,\n",
            "/usr/local/lib/python3.9/dist-packages/numpy/core/_methods.py:181: RuntimeWarning: invalid value encountered in true_divide\n",
            "  ret = um.true_divide(\n"
          ]
        }
      ]
    },
    {
      "cell_type": "code",
      "source": [
        "checkClustering(clusters, spectral_labels.to_numpy()[:,0], 11)"
      ],
      "metadata": {
        "colab": {
          "base_uri": "https://localhost:8080/"
        },
        "id": "WcOXdpxFJI5y",
        "outputId": "1d1a9272-7db5-4565-849d-8f24f63d4299"
      },
      "execution_count": null,
      "outputs": [
        {
          "output_type": "stream",
          "name": "stdout",
          "text": [
            "Precision Score:  0.8034840002908602\n",
            "Recall Score:  0.7236731088182282\n",
            "F Score:  0.7614930525588222\n",
            "Conditional Entropy:  0.2934591939654197\n"
          ]
        }
      ]
    },
    {
      "cell_type": "code",
      "source": [
        "from sklearn.datasets import load_digits\n",
        "from sklearn.decomposition import PCA\n",
        "from sklearn.cluster import KMeans\n",
        "import numpy as np\n",
        " \n",
        "#Load Data\n",
        "pca = PCA(2)\n",
        " \n",
        "#Transform the data\n",
        "df = pca.fit_transform(X_train_spectral)\n",
        " \n",
        "df.shape\n",
        "\n",
        "#Getting unique labels\n",
        " \n",
        "u_labels = np.unique(clusters)\n",
        " \n",
        "#plotting the results:\n",
        " \n",
        "for i in u_labels:\n",
        "    plt.scatter(df[clusters == i , 0] , df[clusters == i , 1] , label = i)\n",
        "plt.show()\n",
        "# plot_clusters(X_train, clusters, centroids, 1)"
      ],
      "metadata": {
        "colab": {
          "base_uri": "https://localhost:8080/",
          "height": 265
        },
        "id": "fav_MoD0RW2L",
        "outputId": "0714d483-20a0-4b78-cd9e-0ecf91c45550"
      },
      "execution_count": null,
      "outputs": [
        {
          "output_type": "display_data",
          "data": {
            "text/plain": [
              "<Figure size 432x288 with 1 Axes>"
            ],
            "image/png": "[encoded data removed]"
          },
          "metadata": {
            "needs_background": "light"
          }
        }
      ]
    },
    {
      "cell_type": "code",
      "source": [
        "eigenValues, Y, labels = SpectralClustering(spectral_train, 11)"
      ],
      "metadata": {
        "id": "16G3kkgkNorY"
      },
      "execution_count": null,
      "outputs": []
    },
    {
      "cell_type": "code",
      "source": [
        "checkClustering(labels, spectral_labels.to_numpy()[:,0], 11)"
      ],
      "metadata": {
        "colab": {
          "base_uri": "https://localhost:8080/"
        },
        "id": "GcATWxycLOm3",
        "outputId": "f8ef1f0c-0deb-4084-9ef0-2b442dcbca5a"
      },
      "execution_count": null,
      "outputs": [
        {
          "output_type": "stream",
          "name": "stdout",
          "text": [
            "Precision Score:  0.42102036866963566\n",
            "Recall Score:  0.9987381955394088\n",
            "F Score:  0.5923389143628169\n",
            "Conditional Entropy:  0.9945877855600728\n"
          ]
        }
      ]
    },
    {
      "cell_type": "code",
      "source": [
        "pca = PCA(2)\n",
        " \n",
        "#Transform the data\n",
        "df = pca.fit_transform(X_train_spectral)\n",
        " \n",
        "df.shape\n",
        "\n",
        "#Getting unique labels\n",
        " \n",
        "u_labels = np.unique(labels)\n",
        " \n",
        "#plotting the results:\n",
        " \n",
        "for i in u_labels:\n",
        "    plt.scatter(df[labels == i , 0] , df[labels == i , 1] , label = i)\n",
        "plt.show()"
      ],
      "metadata": {
        "colab": {
          "base_uri": "https://localhost:8080/",
          "height": 265
        },
        "id": "dpL6aV8rRXUJ",
        "outputId": "3edd9927-1404-4588-e854-0a9ab6329d5c"
      },
      "execution_count": null,
      "outputs": [
        {
          "output_type": "display_data",
          "data": {
            "text/plain": [
              "<Figure size 432x288 with 1 Axes>"
            ],
            "image/png": "[encoded data removed]"
          },
          "metadata": {
            "needs_background": "light"
          }
        }
      ]
    },
    {
      "cell_type": "markdown",
      "source": [
        "# Mean Shift Algorithm\n"
      ],
      "metadata": {
        "id": "pEEZ3gkH8lQa"
      }
    },
    {
      "cell_type": "code",
      "source": [
        "def mean_shift(data, bandwidth = None, bandwidthStep = 100):\n",
        "\n",
        "  if bandwidth is None:\n",
        "    all_data_centroid = np.average(data,axis=0)\n",
        "    all_data_norm = np.linalg.norm(all_data_centroid)\n",
        "    bandwidth = all_data_norm/bandwidthStep\n",
        "\n",
        "  centroids = {}\n",
        "\n",
        "  for i in range(len(data)):\n",
        "    centroids[i] = data[i]\n",
        "\n",
        "  weights = [i for i in range(bandwidthStep)][::-1]    \n",
        "  while True:\n",
        "    new_centroids = []\n",
        "    for i in centroids:\n",
        "      in_bandwidth = []\n",
        "      centroid = centroids[i]\n",
        "                \n",
        "      for featureset in data:\n",
        "\n",
        "        distance = np.linalg.norm(featureset-centroid)\n",
        "        if distance == 0:\n",
        "          distance = 0.00000000001\n",
        "        weight_index = int(distance/bandwidth)\n",
        "        if weight_index > bandwidthStep - 1:\n",
        "          weight_index = bandwidthStep - 1\n",
        "\n",
        "        to_add = (weights[weight_index]**2)*[featureset]\n",
        "        in_bandwidth +=to_add\n",
        "\n",
        "      new_centroid = np.average(in_bandwidth,axis=0)\n",
        "      new_centroids.append(tuple(new_centroid))\n",
        "\n",
        "    uniques = sorted(list(set(new_centroids)))\n",
        "\n",
        "    to_pop = []\n",
        "\n",
        "    for i in uniques:\n",
        "      for j in [i for i in uniques]:\n",
        "        if i == j:\n",
        "            pass\n",
        "        elif np.linalg.norm(np.array(i)-np.array(j)) <= bandwidth:\n",
        "          to_pop.append(j)\n",
        "          break\n",
        "\n",
        "    for i in to_pop:\n",
        "      try:\n",
        "        uniques.remove(i)\n",
        "      except:\n",
        "        pass\n",
        "\n",
        "    prev_centroids = dict(centroids)\n",
        "    centroids = {}\n",
        "    for i in range(len(uniques)):\n",
        "      centroids[i] = np.array(uniques[i])\n",
        "        \n",
        "    optimized = True\n",
        "\n",
        "    for i in centroids:\n",
        "      if not np.array_equal(centroids[i], prev_centroids[i]):\n",
        "        optimized = False\n",
        "\n",
        "    if optimized:\n",
        "      break\n",
        "            \n",
        "  proximityMatrix = np.zeros((data.shape[0], len(centroids)))\n",
        "  for i in range(len(centroids)):\n",
        "      proximityMatrix[:,i] = np.linalg.norm(data - centroids[i], axis=1)\n",
        "      \n",
        "  clusters = np.argmin(proximityMatrix, axis = 1)\n",
        "\n",
        "  return clusters"
      ],
      "metadata": {
        "id": "yh_heplYxUbX"
      },
      "execution_count": null,
      "outputs": []
    },
    {
      "cell_type": "code",
      "source": [
        "from sklearn.cluster import MeanShift, estimate_bandwidth\n",
        "from sklearn import metrics\n",
        "\n",
        "estimatedBandwidth = estimate_bandwidth(X_train_meanShift.to_numpy(), quantile=0.5, random_state=42)\n",
        "meanShiftClustering = MeanShift(bandwidth=estimatedBandwidth).fit_predict(X_train_meanShift.to_numpy())\n",
        "print(estimatedBandwidth)\n",
        "print(meanShiftClustering[:1000])\n",
        "print(set(meanShiftClustering))\n"
      ],
      "metadata": {
        "id": "wFyhCaGO8nJY",
        "colab": {
          "base_uri": "https://localhost:8080/"
        },
        "outputId": "a3b397d6-2555-43b3-b68f-324c323993e7"
      },
      "execution_count": null,
      "outputs": [
        {
          "output_type": "stream",
          "name": "stdout",
          "text": [
            "1268.7673178892749\n",
            "[ 0  0  0  0  0  0  0  6  0  0  0  0  0  0  0  0  0  0  0  0  0  0  0  0\n",
            "  0  0  0  0  0  0  0  0  0  0  0  0  0  0  0  0  0  0  0  0  0  0  0  0\n",
            "  0  0  0  0  0  0  0  0  0  0  0  0  0  0  0  0  1  0  0  0  0  0  0  0\n",
            "  0  0  0  5  0  0  0  0  0  0  0  0  0  0  0  0  0  0  0  0  0  0  0  0\n",
            "  5  0  0  0  0  0  0  0  0  0  0  0  0  0  0  0  0  0  0  0  0  0  0  0\n",
            "  0  0  0  0  0  0  4  0  0  0  0  0  0  0  0  0  0  0  0  0  0  0  0  0\n",
            "  0  0  0  0  0  0  0  0  0  0  0  0  0  0  0  0  0  0  0  2  0  0  0  0\n",
            "  0  0  0  0  0  0  0 10  0  0  0  0  0  0  0  0  0  0  0  0  0  0  0  0\n",
            "  0  0  0  0  0  0  0  0  0 23  0  0  0  0  0  0  0  0  0  0  0  0  0  0\n",
            "  0  0  0  0  0  0  0  0  0  0  0  0  0  0  0  0  0  0  0  0  0  0  0  0\n",
            "  0  0  0  0  0  0  0  0  0  0  0  0  0  0  0  0  0  0  0  0  0  0  0  0\n",
            "  0  0  0  0  0  0  0  0  0  0  0  0  0  0  0  0  0  0  0  0  0  0  0  0\n",
            "  0  0  0  0  0  0  0  2  0  0  0  0  0  0  0  0  0  0  0  0  0  0  0  0\n",
            "  0  0  0  0  0  0  0  0  0  0  0  0  0  0  0  0  0  0  0  0  0  0  0  0\n",
            "  0  0  0  0  0  0  0  0  0  0  0  0  0  0  0  0  0  0  0  0  0  0  0  0\n",
            "  0  0  0  0  0  0  0  0  0  0  0  0  0  0  0  0  0  0  0  0  0  0  0  0\n",
            "  0  0  0  0  0  0  0  0  0  0  0  0  0  0  0  0  0  0  0  0  0  0  0  0\n",
            "  0  0  0  0  0  0  0  0  0  0  0  0  0  0  0  0  0  0  0  0  0  0  0  0\n",
            "  0  0  0  0  0  0  0  0  0  0  0  0  0  0 19  0  2  0  0  0  0  0  0  0\n",
            "  0  0  0  0  0  0  0  0  0  0  0  0  0  0  0  0  0  0  0  0  0  0  0  0\n",
            "  0  0  0  0  0  0  0  0  0  0  0  0  0  0  0  0  0  0  0  0  0  0  0  0\n",
            "  0  0  0  0  0  0  0  0  0  1  0  0  0  0  0  0  0  0  0  0  0  0  0  0\n",
            "  0  0  0  0  0  0  0  0  0  0  0  0  0 11  0  0  0  0  0  8  0  5  0  0\n",
            "  0  0  1  0  0  0  0  2  0  0  0  0  0  0  0  0  0  0  0  2  0  0  0  0\n",
            "  2  0  0  0  0  0  0  0  0  0  0  0  0  0  0  0  0  0  0  0  0  0  0  0\n",
            "  0  0  0  0  0  0  0  0  0  0  0  0  0  0  0  0  0  0  0  0  0  0  0  0\n",
            "  0  0  0  0  0  0  0  0  0  0  0  0  0  0  0  0  0  0  0  0  0  0  0  0\n",
            "  0  0  0  0  0  0  0  0  0  0  0  0  0  0  0  0  0  4  0  0  0  0  0  0\n",
            "  0  0  0  0  0  0  0  0  0  0  0  2  0  0  0  0  0  0  0  0  0  0  0  0\n",
            "  0  0  0  0  0  0  0  0  0  0  9  0  0  0  0  0  0  0  0  0  0  0  2  0\n",
            "  0  0  0  0  0  0  0  0  0  0  0  0  0  0  0  0  0  0  0  0  0  0  0  0\n",
            "  0  0  0  0  0  0  0  0  0  0  0  0  0 13  0  0  0  0  0  0  0  0  0  0\n",
            "  0  0  0  0  0  0  0  0  0  0  0  0  0  0  0  0  0  0  0  0  0  0  0  0\n",
            "  0  0  0  0  0  0  0  0  0  0  0  0  0  0  0  2  0  0  0  0  0  0  0  0\n",
            "  0  0 21  0  0  0  0  0  0  0  0  0  0  0  0  0  0  0  0  0  0  0  0  0\n",
            "  0  0  0 24  0  0  0  0  0  0  0  0  0  0  0  0  0  0  0  0  0  0  0  0\n",
            "  0  0  0  0  0  0  0  0  0  0  0  0  0  0  0  0  7  0  0  0  0  0  0  4\n",
            "  0  0  1  0  0  0  0  0  0  0  0  0  0  0  0  0  0  0  0  0  0  0  0  0\n",
            "  0  6  0  0  0  0  0  0  0  0  0  0  0  0  0  0  0  0  0  0  0  0  0  0\n",
            "  0  0  0  0  0  0  0  0  0  0  0  0  0  0  0  0  0  0  0  0  0  0  0  0\n",
            "  0  0  0  0  0  0  0  0  0  0  0  0  0  0  0  0  0  0  0  0  0  0  0  0\n",
            "  0  0  0  0  0  0  0  0  0  0  0  0  0  0  0  0]\n",
            "{0, 1, 2, 3, 4, 5, 6, 7, 8, 9, 10, 11, 12, 13, 14, 15, 16, 17, 18, 19, 20, 21, 22, 23, 24, 25, 26, 27, 28, 29}\n"
          ]
        }
      ]
    },
    {
      "cell_type": "code",
      "source": [
        "meanShiftClustering = mean_shift(meanShift_train.to_numpy())\n",
        "\n",
        "print(meanShiftClustering[:1000])\n",
        "print(set(meanShiftClustering))\n"
      ],
      "metadata": {
        "colab": {
          "base_uri": "https://localhost:8080/"
        },
        "id": "JQ-YjcWSIh7y",
        "outputId": "c9f4faa4-2775-43af-ed00-a633c7bdc416"
      },
      "execution_count": null,
      "outputs": [
        {
          "output_type": "stream",
          "name": "stdout",
          "text": [
            "[ 8  8  8  8  8  8  8  8  8  8  8  8  8  8  8  8  8  8  8  8  5  8  8  8\n",
            "  8  8  8  8  8  8  8  8  8  8  8  8  8  8  8  8  8  8  8  8  8  8  7  5\n",
            "  8  8  8  8  8  8  8  8  8  8  8  8  8  8  8  8  8  8  8  8  8  8  8  4\n",
            "  8  8  8  8  8  8  8  8  8  8  8  8  8  8  8  8  8  8  4  8  9  8  8  8\n",
            "  8  7  8  8  8  8  8  8  8  8  5  8  8  8  8  4  8  8  8  8  8  8  8  8\n",
            "  8  8  8  8  8  8  8  8  8  3  8  8  8  8  7  8  8  8  8  8  8  8  8  8\n",
            "  8  8  8  8  8  8  8  8  8  8  8  8  8  7  8  7  8  8  8  8  8  8  8  8\n",
            "  8  8  5  8  8  8  8  8  8  8  8  2  8  8  8  8  8  8  8  8  8  8  8  4\n",
            "  8  8  8  8  8  8  8  8  8  8  8  8  8  8  8  8  8  8  8  8  8  8  8  8\n",
            "  8  8  8  8  7  8  8  8  8  8  8  8  4  8  8  8  8  8  8  8  8  8  8  8\n",
            "  8  8  8  8  8  8  8  8  8  8  8  7  8  8  8  8  8  8  8  8  8  8  7  8\n",
            "  8  8  8  8  8  8  8  8  8  8  8  8  8  8  7  8  8  8  8  8  8  8  8  8\n",
            "  8  8  8  8  8  8  8  8  8  8  8  8  8  8  8  8  8  7  8  8  8  8  8  8\n",
            "  8  8  8  8  8  8  8  8  8  8  7  8  8  8  8  8  8  8  8  8  8  8  8  7\n",
            "  8  8  7  8  8  8  8  8  8  8  8  8  8  8  8  7  8  7  8  8  8  8  8  8\n",
            "  8  8  8  8  8  8  8  8  8  8  8  8  8  8  8  8  8  8  8  8  8  8  8  8\n",
            "  8  9  8  8  8  8  8  8  8  8  8  8  8  8  8  8  8  8  8  8  8  8  8  8\n",
            "  8  8  0  8  8  8  4  8  8  8  8  8  8  8  8  8  8  8  8  8  8  8  8  8\n",
            "  8  8  8  8  8  8  8  8  8  8  8  8  8  8  8  8  8  8  8  8  8  8  8  8\n",
            "  8  8  8  8  8  8  8  8  8  8  7  8  8  8  8  8  8  8  8  8  8  4  8  8\n",
            "  8  8  8  8  8  8  8  8  1  8  8  8  8  8  8  8  8  8  5  8  8  8  8  8\n",
            "  8  8  8  8  8  8  8  8  8  8  8  8  8  5  8  8 11  8  8  8  8  8  8  8\n",
            "  8  8  8  8  8 10  8  8  8  8  8  8  8  8  8  8  8  8  8  8  8  8  8  8\n",
            "  8  8  8  8  8  8  8  8  8  8  8  8  8  7  8  8  8  8  8  8  8  8  8  8\n",
            "  8  8  8  7  8  8  8  8  8  8  8  8  8  8  8  8  8  8  8  8  8  8  8  8\n",
            "  8  8  8  8  8  8  8  4  8  8  8  8  8  8  7  8  8  8  8  8  8  8  8  8\n",
            "  8  8  8  8  8  8  8  8  8  8  8  8  8  8  8  8  8  8  8  8  8  8  8  8\n",
            "  8  8  7  8  8  8  8  8  8  8  8  8  8  8  8  8  8  8  8  8  8  8  8  8\n",
            "  7  8  8  8  8  8  8  8  8  8  8  7  8  8  8  8  8  8  8  8  8  8  8  8\n",
            "  8  8  8  8  8  8  8  8  8  8  8  8  8  8  8  8  8  8  8  8  8  6  8  8\n",
            "  7  8  8  8  8  8  9  8  8  8  8  8  8  8]\n",
            "{0, 1, 2, 3, 4, 5, 6, 7, 8, 9, 10, 11}\n"
          ]
        }
      ]
    },
    {
      "cell_type": "code",
      "source": [
        "checkClustering(meanShiftClustering, meanShift_labels.to_numpy()[:,0], 12)"
      ],
      "metadata": {
        "colab": {
          "base_uri": "https://localhost:8080/"
        },
        "id": "fRt2SmApMMVH",
        "outputId": "27d9adae-d57d-4307-8682-02d26a985167"
      },
      "execution_count": null,
      "outputs": [
        {
          "output_type": "stream",
          "name": "stdout",
          "text": [
            "Precision Score:  0.47576078664067134\n",
            "Recall Score:  0.9584108877922166\n",
            "F Score:  0.6358713200514358\n",
            "Conditional Entropy:  0.8557752609213186\n"
          ]
        }
      ]
    },
    {
      "cell_type": "markdown",
      "source": [
        "Refrences:\n",
        "https://www.youtube.com/watch?v=k1alPDpSGBE&list=PLQVvvaa0QuDfKTOs3Keq_kaG2P55YRn5v&index=42\n",
        "\n"
      ],
      "metadata": {
        "id": "e-c9H2XcP9GF"
      }
    }
  ]
}