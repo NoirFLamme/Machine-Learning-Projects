{
  "cells": [
    {
      "cell_type": "markdown",
      "metadata": {
        "id": "xeN3KjZkb9KY"
      },
      "source": [
        "# Face Recognition\n"
      ]
    },
    {
      "cell_type": "code",
      "execution_count": null,
      "metadata": {
        "id": "W7npYIZM4GBq"
      },
      "outputs": [],
      "source": [
        "import os\n",
        "import numpy as np\n",
        "import scipy as sc\n",
        "import pandas as pd\n",
        "from PIL import Image\n",
        "from math import floor, ceil\n",
        "from sklearn.neighbors import KNeighborsClassifier\n",
        "from sklearn.metrics import accuracy_score\n",
        "import matplotlib.pyplot as plt\n",
        "from sklearn.decomposition import PCA as RPCA\n",
        "from sklearn.discriminant_analysis import QuadraticDiscriminantAnalysis as QDA"
      ]
    },
    {
      "cell_type": "markdown",
      "metadata": {
        "id": "oRzCQpOHcM-N"
      },
      "source": [
        "## 1- Understand the format and download data"
      ]
    },
    {
      "cell_type": "code",
      "execution_count": null,
      "metadata": {
        "id": "M18cojnw6PT0",
        "colab": {
          "base_uri": "https://localhost:8080/"
        },
        "outputId": "58efe371-565d-4221-f9c0-902c06a1a9fd"
      },
      "outputs": [
        {
          "output_type": "stream",
          "name": "stdout",
          "text": [
            "Archive:  archive.zip\n",
            "  inflating: README                  \n",
            "  inflating: s1/1.pgm                \n",
            "  inflating: s1/10.pgm               \n",
            "  inflating: s1/2.pgm                \n",
            "  inflating: s1/3.pgm                \n",
            "  inflating: s1/4.pgm                \n",
            "  inflating: s1/5.pgm                \n",
            "  inflating: s1/6.pgm                \n",
            "  inflating: s1/7.pgm                \n",
            "  inflating: s1/8.pgm                \n",
            "  inflating: s1/9.pgm                \n",
            "  inflating: s10/1.pgm               \n",
            "  inflating: s10/10.pgm              \n",
            "  inflating: s10/2.pgm               \n",
            "  inflating: s10/3.pgm               \n",
            "  inflating: s10/4.pgm               \n",
            "  inflating: s10/5.pgm               \n",
            "  inflating: s10/6.pgm               \n",
            "  inflating: s10/7.pgm               \n",
            "  inflating: s10/8.pgm               \n",
            "  inflating: s10/9.pgm               \n",
            "  inflating: s11/1.pgm               \n",
            "  inflating: s11/10.pgm              \n",
            "  inflating: s11/2.pgm               \n",
            "  inflating: s11/3.pgm               \n",
            "  inflating: s11/4.pgm               \n",
            "  inflating: s11/5.pgm               \n",
            "  inflating: s11/6.pgm               \n",
            "  inflating: s11/7.pgm               \n",
            "  inflating: s11/8.pgm               \n",
            "  inflating: s11/9.pgm               \n",
            "  inflating: s12/1.pgm               \n",
            "  inflating: s12/10.pgm              \n",
            "  inflating: s12/2.pgm               \n",
            "  inflating: s12/3.pgm               \n",
            "  inflating: s12/4.pgm               \n",
            "  inflating: s12/5.pgm               \n",
            "  inflating: s12/6.pgm               \n",
            "  inflating: s12/7.pgm               \n",
            "  inflating: s12/8.pgm               \n",
            "  inflating: s12/9.pgm               \n",
            "  inflating: s13/1.pgm               \n",
            "  inflating: s13/10.pgm              \n",
            "  inflating: s13/2.pgm               \n",
            "  inflating: s13/3.pgm               \n",
            "  inflating: s13/4.pgm               \n",
            "  inflating: s13/5.pgm               \n",
            "  inflating: s13/6.pgm               \n",
            "  inflating: s13/7.pgm               \n",
            "  inflating: s13/8.pgm               \n",
            "  inflating: s13/9.pgm               \n",
            "  inflating: s14/1.pgm               \n",
            "  inflating: s14/10.pgm              \n",
            "  inflating: s14/2.pgm               \n",
            "  inflating: s14/3.pgm               \n",
            "  inflating: s14/4.pgm               \n",
            "  inflating: s14/5.pgm               \n",
            "  inflating: s14/6.pgm               \n",
            "  inflating: s14/7.pgm               \n",
            "  inflating: s14/8.pgm               \n",
            "  inflating: s14/9.pgm               \n",
            "  inflating: s15/1.pgm               \n",
            "  inflating: s15/10.pgm              \n",
            "  inflating: s15/2.pgm               \n",
            "  inflating: s15/3.pgm               \n",
            "  inflating: s15/4.pgm               \n",
            "  inflating: s15/5.pgm               \n",
            "  inflating: s15/6.pgm               \n",
            "  inflating: s15/7.pgm               \n",
            "  inflating: s15/8.pgm               \n",
            "  inflating: s15/9.pgm               \n",
            "  inflating: s16/1.pgm               \n",
            "  inflating: s16/10.pgm              \n",
            "  inflating: s16/2.pgm               \n",
            "  inflating: s16/3.pgm               \n",
            "  inflating: s16/4.pgm               \n",
            "  inflating: s16/5.pgm               \n",
            "  inflating: s16/6.pgm               \n",
            "  inflating: s16/7.pgm               \n",
            "  inflating: s16/8.pgm               \n",
            "  inflating: s16/9.pgm               \n",
            "  inflating: s17/1.pgm               \n",
            "  inflating: s17/10.pgm              \n",
            "  inflating: s17/2.pgm               \n",
            "  inflating: s17/3.pgm               \n",
            "  inflating: s17/4.pgm               \n",
            "  inflating: s17/5.pgm               \n",
            "  inflating: s17/6.pgm               \n",
            "  inflating: s17/7.pgm               \n",
            "  inflating: s17/8.pgm               \n",
            "  inflating: s17/9.pgm               \n",
            "  inflating: s18/1.pgm               \n",
            "  inflating: s18/10.pgm              \n",
            "  inflating: s18/2.pgm               \n",
            "  inflating: s18/3.pgm               \n",
            "  inflating: s18/4.pgm               \n",
            "  inflating: s18/5.pgm               \n",
            "  inflating: s18/6.pgm               \n",
            "  inflating: s18/7.pgm               \n",
            "  inflating: s18/8.pgm               \n",
            "  inflating: s18/9.pgm               \n",
            "  inflating: s19/1.pgm               \n",
            "  inflating: s19/10.pgm              \n",
            "  inflating: s19/2.pgm               \n",
            "  inflating: s19/3.pgm               \n",
            "  inflating: s19/4.pgm               \n",
            "  inflating: s19/5.pgm               \n",
            "  inflating: s19/6.pgm               \n",
            "  inflating: s19/7.pgm               \n",
            "  inflating: s19/8.pgm               \n",
            "  inflating: s19/9.pgm               \n",
            "  inflating: s2/1.pgm                \n",
            "  inflating: s2/10.pgm               \n",
            "  inflating: s2/2.pgm                \n",
            "  inflating: s2/3.pgm                \n",
            "  inflating: s2/4.pgm                \n",
            "  inflating: s2/5.pgm                \n",
            "  inflating: s2/6.pgm                \n",
            "  inflating: s2/7.pgm                \n",
            "  inflating: s2/8.pgm                \n",
            "  inflating: s2/9.pgm                \n",
            "  inflating: s20/1.pgm               \n",
            "  inflating: s20/10.pgm              \n",
            "  inflating: s20/2.pgm               \n",
            "  inflating: s20/3.pgm               \n",
            "  inflating: s20/4.pgm               \n",
            "  inflating: s20/5.pgm               \n",
            "  inflating: s20/6.pgm               \n",
            "  inflating: s20/7.pgm               \n",
            "  inflating: s20/8.pgm               \n",
            "  inflating: s20/9.pgm               \n",
            "  inflating: s21/1.pgm               \n",
            "  inflating: s21/10.pgm              \n",
            "  inflating: s21/2.pgm               \n",
            "  inflating: s21/3.pgm               \n",
            "  inflating: s21/4.pgm               \n",
            "  inflating: s21/5.pgm               \n",
            "  inflating: s21/6.pgm               \n",
            "  inflating: s21/7.pgm               \n",
            "  inflating: s21/8.pgm               \n",
            "  inflating: s21/9.pgm               \n",
            "  inflating: s22/1.pgm               \n",
            "  inflating: s22/10.pgm              \n",
            "  inflating: s22/2.pgm               \n",
            "  inflating: s22/3.pgm               \n",
            "  inflating: s22/4.pgm               \n",
            "  inflating: s22/5.pgm               \n",
            "  inflating: s22/6.pgm               \n",
            "  inflating: s22/7.pgm               \n",
            "  inflating: s22/8.pgm               \n",
            "  inflating: s22/9.pgm               \n",
            "  inflating: s23/1.pgm               \n",
            "  inflating: s23/10.pgm              \n",
            "  inflating: s23/2.pgm               \n",
            "  inflating: s23/3.pgm               \n",
            "  inflating: s23/4.pgm               \n",
            "  inflating: s23/5.pgm               \n",
            "  inflating: s23/6.pgm               \n",
            "  inflating: s23/7.pgm               \n",
            "  inflating: s23/8.pgm               \n",
            "  inflating: s23/9.pgm               \n",
            "  inflating: s24/1.pgm               \n",
            "  inflating: s24/10.pgm              \n",
            "  inflating: s24/2.pgm               \n",
            "  inflating: s24/3.pgm               \n",
            "  inflating: s24/4.pgm               \n",
            "  inflating: s24/5.pgm               \n",
            "  inflating: s24/6.pgm               \n",
            "  inflating: s24/7.pgm               \n",
            "  inflating: s24/8.pgm               \n",
            "  inflating: s24/9.pgm               \n",
            "  inflating: s25/1.pgm               \n",
            "  inflating: s25/10.pgm              \n",
            "  inflating: s25/2.pgm               \n",
            "  inflating: s25/3.pgm               \n",
            "  inflating: s25/4.pgm               \n",
            "  inflating: s25/5.pgm               \n",
            "  inflating: s25/6.pgm               \n",
            "  inflating: s25/7.pgm               \n",
            "  inflating: s25/8.pgm               \n",
            "  inflating: s25/9.pgm               \n",
            "  inflating: s26/1.pgm               \n",
            "  inflating: s26/10.pgm              \n",
            "  inflating: s26/2.pgm               \n",
            "  inflating: s26/3.pgm               \n",
            "  inflating: s26/4.pgm               \n",
            "  inflating: s26/5.pgm               \n",
            "  inflating: s26/6.pgm               \n",
            "  inflating: s26/7.pgm               \n",
            "  inflating: s26/8.pgm               \n",
            "  inflating: s26/9.pgm               \n",
            "  inflating: s27/1.pgm               \n",
            "  inflating: s27/10.pgm              \n",
            "  inflating: s27/2.pgm               \n",
            "  inflating: s27/3.pgm               \n",
            "  inflating: s27/4.pgm               \n",
            "  inflating: s27/5.pgm               \n",
            "  inflating: s27/6.pgm               \n",
            "  inflating: s27/7.pgm               \n",
            "  inflating: s27/8.pgm               \n",
            "  inflating: s27/9.pgm               \n",
            "  inflating: s28/1.pgm               \n",
            "  inflating: s28/10.pgm              \n",
            "  inflating: s28/2.pgm               \n",
            "  inflating: s28/3.pgm               \n",
            "  inflating: s28/4.pgm               \n",
            "  inflating: s28/5.pgm               \n",
            "  inflating: s28/6.pgm               \n",
            "  inflating: s28/7.pgm               \n",
            "  inflating: s28/8.pgm               \n",
            "  inflating: s28/9.pgm               \n",
            "  inflating: s29/1.pgm               \n",
            "  inflating: s29/10.pgm              \n",
            "  inflating: s29/2.pgm               \n",
            "  inflating: s29/3.pgm               \n",
            "  inflating: s29/4.pgm               \n",
            "  inflating: s29/5.pgm               \n",
            "  inflating: s29/6.pgm               \n",
            "  inflating: s29/7.pgm               \n",
            "  inflating: s29/8.pgm               \n",
            "  inflating: s29/9.pgm               \n",
            "  inflating: s3/1.pgm                \n",
            "  inflating: s3/10.pgm               \n",
            "  inflating: s3/2.pgm                \n",
            "  inflating: s3/3.pgm                \n",
            "  inflating: s3/4.pgm                \n",
            "  inflating: s3/5.pgm                \n",
            "  inflating: s3/6.pgm                \n",
            "  inflating: s3/7.pgm                \n",
            "  inflating: s3/8.pgm                \n",
            "  inflating: s3/9.pgm                \n",
            "  inflating: s30/1.pgm               \n",
            "  inflating: s30/10.pgm              \n",
            "  inflating: s30/2.pgm               \n",
            "  inflating: s30/3.pgm               \n",
            "  inflating: s30/4.pgm               \n",
            "  inflating: s30/5.pgm               \n",
            "  inflating: s30/6.pgm               \n",
            "  inflating: s30/7.pgm               \n",
            "  inflating: s30/8.pgm               \n",
            "  inflating: s30/9.pgm               \n",
            "  inflating: s31/1.pgm               \n",
            "  inflating: s31/10.pgm              \n",
            "  inflating: s31/2.pgm               \n",
            "  inflating: s31/3.pgm               \n",
            "  inflating: s31/4.pgm               \n",
            "  inflating: s31/5.pgm               \n",
            "  inflating: s31/6.pgm               \n",
            "  inflating: s31/7.pgm               \n",
            "  inflating: s31/8.pgm               \n",
            "  inflating: s31/9.pgm               \n",
            "  inflating: s32/1.pgm               \n",
            "  inflating: s32/10.pgm              \n",
            "  inflating: s32/2.pgm               \n",
            "  inflating: s32/3.pgm               \n",
            "  inflating: s32/4.pgm               \n",
            "  inflating: s32/5.pgm               \n",
            "  inflating: s32/6.pgm               \n",
            "  inflating: s32/7.pgm               \n",
            "  inflating: s32/8.pgm               \n",
            "  inflating: s32/9.pgm               \n",
            "  inflating: s33/1.pgm               \n",
            "  inflating: s33/10.pgm              \n",
            "  inflating: s33/2.pgm               \n",
            "  inflating: s33/3.pgm               \n",
            "  inflating: s33/4.pgm               \n",
            "  inflating: s33/5.pgm               \n",
            "  inflating: s33/6.pgm               \n",
            "  inflating: s33/7.pgm               \n",
            "  inflating: s33/8.pgm               \n",
            "  inflating: s33/9.pgm               \n",
            "  inflating: s34/1.pgm               \n",
            "  inflating: s34/10.pgm              \n",
            "  inflating: s34/2.pgm               \n",
            "  inflating: s34/3.pgm               \n",
            "  inflating: s34/4.pgm               \n",
            "  inflating: s34/5.pgm               \n",
            "  inflating: s34/6.pgm               \n",
            "  inflating: s34/7.pgm               \n",
            "  inflating: s34/8.pgm               \n",
            "  inflating: s34/9.pgm               \n",
            "  inflating: s35/1.pgm               \n",
            "  inflating: s35/10.pgm              \n",
            "  inflating: s35/2.pgm               \n",
            "  inflating: s35/3.pgm               \n",
            "  inflating: s35/4.pgm               \n",
            "  inflating: s35/5.pgm               \n",
            "  inflating: s35/6.pgm               \n",
            "  inflating: s35/7.pgm               \n",
            "  inflating: s35/8.pgm               \n",
            "  inflating: s35/9.pgm               \n",
            "  inflating: s36/1.pgm               \n",
            "  inflating: s36/10.pgm              \n",
            "  inflating: s36/2.pgm               \n",
            "  inflating: s36/3.pgm               \n",
            "  inflating: s36/4.pgm               \n",
            "  inflating: s36/5.pgm               \n",
            "  inflating: s36/6.pgm               \n",
            "  inflating: s36/7.pgm               \n",
            "  inflating: s36/8.pgm               \n",
            "  inflating: s36/9.pgm               \n",
            "  inflating: s37/1.pgm               \n",
            "  inflating: s37/10.pgm              \n",
            "  inflating: s37/2.pgm               \n",
            "  inflating: s37/3.pgm               \n",
            "  inflating: s37/4.pgm               \n",
            "  inflating: s37/5.pgm               \n",
            "  inflating: s37/6.pgm               \n",
            "  inflating: s37/7.pgm               \n",
            "  inflating: s37/8.pgm               \n",
            "  inflating: s37/9.pgm               \n",
            "  inflating: s38/1.pgm               \n",
            "  inflating: s38/10.pgm              \n",
            "  inflating: s38/2.pgm               \n",
            "  inflating: s38/3.pgm               \n",
            "  inflating: s38/4.pgm               \n",
            "  inflating: s38/5.pgm               \n",
            "  inflating: s38/6.pgm               \n",
            "  inflating: s38/7.pgm               \n",
            "  inflating: s38/8.pgm               \n",
            "  inflating: s38/9.pgm               \n",
            "  inflating: s39/1.pgm               \n",
            "  inflating: s39/10.pgm              \n",
            "  inflating: s39/2.pgm               \n",
            "  inflating: s39/3.pgm               \n",
            "  inflating: s39/4.pgm               \n",
            "  inflating: s39/5.pgm               \n",
            "  inflating: s39/6.pgm               \n",
            "  inflating: s39/7.pgm               \n",
            "  inflating: s39/8.pgm               \n",
            "  inflating: s39/9.pgm               \n",
            "  inflating: s4/1.pgm                \n",
            "  inflating: s4/10.pgm               \n",
            "  inflating: s4/2.pgm                \n",
            "  inflating: s4/3.pgm                \n",
            "  inflating: s4/4.pgm                \n",
            "  inflating: s4/5.pgm                \n",
            "  inflating: s4/6.pgm                \n",
            "  inflating: s4/7.pgm                \n",
            "  inflating: s4/8.pgm                \n",
            "  inflating: s4/9.pgm                \n",
            "  inflating: s40/1.pgm               \n",
            "  inflating: s40/10.pgm              \n",
            "  inflating: s40/2.pgm               \n",
            "  inflating: s40/3.pgm               \n",
            "  inflating: s40/4.pgm               \n",
            "  inflating: s40/5.pgm               \n",
            "  inflating: s40/6.pgm               \n",
            "  inflating: s40/7.pgm               \n",
            "  inflating: s40/8.pgm               \n",
            "  inflating: s40/9.pgm               \n",
            "  inflating: s5/1.pgm                \n",
            "  inflating: s5/10.pgm               \n",
            "  inflating: s5/2.pgm                \n",
            "  inflating: s5/3.pgm                \n",
            "  inflating: s5/4.pgm                \n",
            "  inflating: s5/5.pgm                \n",
            "  inflating: s5/6.pgm                \n",
            "  inflating: s5/7.pgm                \n",
            "  inflating: s5/8.pgm                \n",
            "  inflating: s5/9.pgm                \n",
            "  inflating: s6/1.pgm                \n",
            "  inflating: s6/10.pgm               \n",
            "  inflating: s6/2.pgm                \n",
            "  inflating: s6/3.pgm                \n",
            "  inflating: s6/4.pgm                \n",
            "  inflating: s6/5.pgm                \n",
            "  inflating: s6/6.pgm                \n",
            "  inflating: s6/7.pgm                \n",
            "  inflating: s6/8.pgm                \n",
            "  inflating: s6/9.pgm                \n",
            "  inflating: s7/1.pgm                \n",
            "  inflating: s7/10.pgm               \n",
            "  inflating: s7/2.pgm                \n",
            "  inflating: s7/3.pgm                \n",
            "  inflating: s7/4.pgm                \n",
            "  inflating: s7/5.pgm                \n",
            "  inflating: s7/6.pgm                \n",
            "  inflating: s7/7.pgm                \n",
            "  inflating: s7/8.pgm                \n",
            "  inflating: s7/9.pgm                \n",
            "  inflating: s8/1.pgm                \n",
            "  inflating: s8/10.pgm               \n",
            "  inflating: s8/2.pgm                \n",
            "  inflating: s8/3.pgm                \n",
            "  inflating: s8/4.pgm                \n",
            "  inflating: s8/5.pgm                \n",
            "  inflating: s8/6.pgm                \n",
            "  inflating: s8/7.pgm                \n",
            "  inflating: s8/8.pgm                \n",
            "  inflating: s8/9.pgm                \n",
            "  inflating: s9/1.pgm                \n",
            "  inflating: s9/10.pgm               \n",
            "  inflating: s9/2.pgm                \n",
            "  inflating: s9/3.pgm                \n",
            "  inflating: s9/4.pgm                \n",
            "  inflating: s9/5.pgm                \n",
            "  inflating: s9/6.pgm                \n",
            "  inflating: s9/7.pgm                \n",
            "  inflating: s9/8.pgm                \n",
            "  inflating: s9/9.pgm                \n"
          ]
        }
      ],
      "source": [
        "!unzip archive.zip"
      ]
    },
    {
      "cell_type": "code",
      "execution_count": null,
      "metadata": {
        "id": "o_tLf_AaGNEd"
      },
      "outputs": [],
      "source": [
        "def readFile(path):\n",
        "  image = Image.open(path)\n",
        "  imageVector = np.asarray(image)\n",
        "  imageVector = imageVector.flatten()\n",
        "  return imageVector"
      ]
    },
    {
      "cell_type": "markdown",
      "metadata": {
        "id": "1LxF0FBxcefH"
      },
      "source": [
        "## 2- Generate Data Matrix and Label Vector\n"
      ]
    },
    {
      "cell_type": "code",
      "execution_count": null,
      "metadata": {
        "id": "lZTqwfbS_QxJ"
      },
      "outputs": [],
      "source": [
        "def loadImages():\n",
        "  images = []\n",
        "  labels = []\n",
        "  for id in range(1,41):\n",
        "    for img in range(1,11):\n",
        "      path = f's{id}/{img}.pgm'\n",
        "      img = readFile(path)\n",
        "      images.append(img)\n",
        "      labels.append(id) \n",
        "  npimages = np.array(images, dtype=np.uint8)\n",
        "  nplabels = np.array(labels, dtype=np.uint8)\n",
        "\n",
        "  return npimages, nplabels"
      ]
    },
    {
      "cell_type": "markdown",
      "metadata": {
        "id": "tR417Ix7cuv1"
      },
      "source": [
        "## 3- Split dataset evenly\n"
      ]
    },
    {
      "cell_type": "code",
      "execution_count": null,
      "metadata": {
        "id": "Po5KUuWEB_9j"
      },
      "outputs": [],
      "source": [
        "def splitdataEvenly(dataMatrix, labelVector): \n",
        "  print(dataMatrix.dtype, labelVector.dtype)\n",
        "  trainingMatrix = np.zeros((int(dataMatrix.shape[0]/2), dataMatrix.shape[1]), dtype=np.uint8)\n",
        "  trainingVector = np.zeros(int(labelVector.shape[0]/2), dtype=np.uint8)\n",
        "  testingMatrix = np.zeros((int(dataMatrix.shape[0]/2), dataMatrix.shape[1]), dtype=np.uint8)\n",
        "  testingVector = np.zeros(int(labelVector.shape[0]/2), dtype=np.uint8)\n",
        "  for i in range(dataMatrix.shape[0]):\n",
        "    if (i % 2 == 0):\n",
        "      trainingMatrix[int(i/2)] = dataMatrix[i]\n",
        "      trainingVector[int(i/2)] = labelVector[i]\n",
        "    else:\n",
        "      testingMatrix[floor(i/2)] = dataMatrix[i]\n",
        "      testingVector[floor(i/2)] = labelVector[i]\n",
        "  \n",
        "  return trainingMatrix, trainingVector, testingMatrix, testingVector\n",
        "    \n"
      ]
    },
    {
      "cell_type": "code",
      "execution_count": null,
      "metadata": {
        "id": "SOaQH4tQSgE3"
      },
      "outputs": [],
      "source": [
        "images, labels = loadImages()"
      ]
    },
    {
      "cell_type": "code",
      "execution_count": null,
      "metadata": {
        "id": "9L_E0OjKFVd1"
      },
      "outputs": [],
      "source": [
        "trainingMatrix, trainingVector, testingMatrix, testingVector = splitdataEvenly(images, labels)"
      ]
    },
    {
      "cell_type": "markdown",
      "metadata": {
        "id": "KvIZL2Osc6yO"
      },
      "source": [
        "## 4- PCA Classification\n"
      ]
    },
    {
      "cell_type": "code",
      "execution_count": null,
      "metadata": {
        "id": "sJO83PwrL_mA"
      },
      "outputs": [],
      "source": [
        "def PCA(data, alpha):\n",
        "  meanVector = np.mean(data, axis = 0)\n",
        "  z = data - meanVector\n",
        "  cov = np.cov(z.transpose(), bias = True)\n",
        "\n",
        "  eigenValues, eigenVectors = sc.linalg.eigh(cov)\n",
        "  eigenValues = np.real(eigenValues)\n",
        "  eigenVectors = np.real(eigenVectors)\n",
        "  eigenValues = np.abs(eigenValues)\n",
        "  sort_perm = eigenValues.argsort()\n",
        "  eigenValues = np.flip(eigenValues[sort_perm])\n",
        "  eigenVectors = np.flip(eigenVectors[:, sort_perm], axis = 1)\n",
        "\n",
        "  localAlpha = 0;\n",
        "  i = 0\n",
        "  eigenValuesSum = np.sum(eigenValues)\n",
        "\n",
        "  while (localAlpha < alpha):\n",
        "    localAlpha += eigenValues[i] / eigenValuesSum\n",
        "    i += 1\n",
        "\n",
        "    \n",
        "  projectionMatrix = eigenVectors[:, :i]\n",
        "  projectedData = np.matmul(z, projectionMatrix)\n",
        "  return projectedData, projectionMatrix\n",
        "      "
      ]
    },
    {
      "cell_type": "code",
      "execution_count": null,
      "metadata": {
        "colab": {
          "base_uri": "https://localhost:8080/"
        },
        "id": "k4RchItiXxxr",
        "outputId": "d1d6e069-70dd-4c9b-a7bf-c996fa9bf61b"
      },
      "outputs": [
        {
          "name": "stdout",
          "output_type": "stream",
          "text": [
            "for 0.8: accuracy = 0.95\n",
            "for 0.85: accuracy = 0.95\n",
            "for 0.9: accuracy = 0.935\n",
            "for 0.95: accuracy = 0.94\n"
          ]
        }
      ],
      "source": [
        "alpha = [0.8,0.85,0.9,0.95]\n",
        "\n",
        "for a in alpha:\n",
        "  projectedData, projectionMatrix = PCA(trainingMatrix, a)\n",
        "\n",
        "  projectedTestData = np.matmul((testingMatrix - np.mean(testingMatrix, axis = 0)), projectionMatrix)\n",
        "\n",
        "  knc = KNeighborsClassifier(n_neighbors=1)\n",
        "  knc.fit(projectedData, trainingVector)\n",
        "\n",
        "  predictedLabels = knc.predict(projectedTestData)\n",
        "\n",
        "  accuracy = accuracy_score(testingVector, predictedLabels)\n",
        "  print(f'for {a}: accuracy = {accuracy}')\n",
        "\n",
        "\n",
        "\n"
      ]
    },
    {
      "cell_type": "markdown",
      "metadata": {
        "id": "QraEr-6jtbQK"
      },
      "source": [
        "- As seen above increasing alpha doesn't necessarily mean that the accuracy will increase.\n",
        "\n",
        "- Increasing alpha too much adds extra dimensions that may be noisy and don't contribute to the variance of the data too much which would make a simple classifer as knn classify wrong data.\n",
        "\n",
        "\n"
      ]
    },
    {
      "cell_type": "markdown",
      "metadata": {
        "id": "x-BiJxu5euLv"
      },
      "source": [
        "## 5- LDA Classification"
      ]
    },
    {
      "cell_type": "code",
      "execution_count": null,
      "metadata": {
        "id": "Waysi91s0N0I"
      },
      "outputs": [],
      "source": [
        "def classMeans(data, labels, labelsCount):\n",
        "  means = dict()\n",
        "  for i in range(1, labelsCount + 1):\n",
        "    vectorsPos = np.where(labels == i)\n",
        "    vectors = np.take(data, vectorsPos, axis = 0)\n",
        "    means[i] = np.mean(vectors, axis = 1)\n",
        "  return means"
      ]
    },
    {
      "cell_type": "code",
      "execution_count": null,
      "metadata": {
        "id": "QlHPSMLB5BRS"
      },
      "outputs": [],
      "source": [
        "def overallMean(data):\n",
        "  return np.mean(data, axis = 0)"
      ]
    },
    {
      "cell_type": "code",
      "execution_count": null,
      "metadata": {
        "id": "neCxFxri3r94"
      },
      "outputs": [],
      "source": [
        "def calculateScatterMatrices(data, labels, labelsCount):\n",
        "  means = classMeans(data, labels, labelsCount)\n",
        "  overallmean = overallMean(data)\n",
        "  S = np.zeros((len(data[0]),len(data[0])))\n",
        "  Sb = np.zeros((len(data[0]), len(data[0])))\n",
        "  for i in range(1, labelsCount):\n",
        "    vectorsPos = np.where(labels == i)\n",
        "    Z = np.take(data, vectorsPos, axis = 0)[0] - means[i][0]\n",
        "    S += np.dot(Z.T, Z)\n",
        "    \n",
        "    nk = len(np.where(labels == i)[0])\n",
        "    currentMean = means[i][0].reshape(len(data[0]),1) # make column vector\n",
        "    overallm = overallmean.reshape(len(data[0]),1) # make column vector\n",
        "    Sb += nk * (currentMean - overallm).dot((currentMean - overallm).T)\n",
        "  return S, Sb "
      ]
    },
    {
      "cell_type": "code",
      "execution_count": null,
      "metadata": {
        "id": "FkZ_vpbfNBhR"
      },
      "outputs": [],
      "source": [
        "def LDA(n, data, labels):\n",
        "  S, Sb = calculateScatterMatrices(data, labels, len(np.unique(labels)))\n",
        "  S_inv = sc.linalg.pinv(S)\n",
        "  W = np.dot(S_inv, Sb)\n",
        "  print(\"The within-class matrix Sw = \\n\",S,\"\\n\")\n",
        "  print(\"The inverse within-class matrix Sw = \\n\",S_inv,\"\\n\")\n",
        "  print(\"The between-class matrix Sb = \\n\",Sb,\"\\n\")\n",
        "  eigenValues, eigenVectors = sc.linalg.eig(W)\n",
        "  print(\"Eigenvectors before any operation = \\n\",eigenValues, eigenVectors,\"\\n\")\n",
        "  eigenValues = np.real(eigenValues)\n",
        "  eigenVectors = np.real(eigenVectors)\n",
        "  eigenValues = np.abs(eigenValues)\n",
        "  sort_perm = eigenValues.argsort()\n",
        "  eigenValues = np.flip(eigenValues[sort_perm])\n",
        "  eigenVectors = np.flip(eigenVectors[:, sort_perm], axis = 1)\n",
        "\n",
        "  projectionMatrix = eigenVectors[:, :n]\n",
        "\n",
        "  print(\"Projection Matrix = \\n\", projectionMatrix, \"\\n\")\n",
        "\n",
        "  return projectionMatrix"
      ]
    },
    {
      "cell_type": "code",
      "execution_count": null,
      "metadata": {
        "colab": {
          "base_uri": "https://localhost:8080/"
        },
        "id": "GdalyrS7A3dr",
        "outputId": "c30194da-2e12-4d61-b4c2-658b9f6c452a"
      },
      "outputs": [
        {
          "name": "stdout",
          "output_type": "stream",
          "text": [
            "The within-class matrix Sw = \n",
            " [[26656.  26812.8 25523.  ...  2432.4  1023.8  1637.8]\n",
            " [26812.8 29431.6 27181.4 ...  1939.8   358.4   644.2]\n",
            " [25523.  27181.4 28030.8 ...  2999.6   720.2  -413.4]\n",
            " ...\n",
            " [ 2432.4  1939.8  2999.6 ... 77763.6 64940.8 42543. ]\n",
            " [ 1023.8   358.4   720.2 ... 64940.8 72884.4 53673.8]\n",
            " [ 1637.8   644.2  -413.4 ... 42543.  53673.8 75447.6]] \n",
            "\n",
            "The inverse within-class matrix Sw = \n",
            " [[ 6.75758612e-10  4.47799592e-10  3.55528605e-10 ... -7.56014067e-11\n",
            "  -3.63567149e-10 -3.46229221e-10]\n",
            " [ 4.47799592e-10  5.97548683e-10  4.21934634e-10 ... -2.28564660e-11\n",
            "  -2.13757766e-10 -2.06358312e-10]\n",
            " [ 3.55528605e-10  4.21934634e-10  6.16647802e-10 ...  3.00840469e-10\n",
            "   7.76705616e-11 -8.18384695e-11]\n",
            " ...\n",
            " [-7.56014067e-11 -2.28564660e-11  3.00840469e-10 ...  7.20457132e-09\n",
            "   4.69731676e-09  2.21335417e-09]\n",
            " [-3.63567149e-10 -2.13757766e-10  7.76705616e-11 ...  4.69731676e-09\n",
            "   6.43455167e-09  3.93704994e-09]\n",
            " [-3.46229221e-10 -2.06358312e-10 -8.18384695e-11 ...  2.21335417e-09\n",
            "   3.93704994e-09  6.86353478e-09]] \n",
            "\n",
            "The between-class matrix Sb = \n",
            " [[213875.368875 213325.512625 210922.766125 ... -17097.8075\n",
            "  -22188.817125 -10920.683875]\n",
            " [213325.512625 213612.643875 210951.372375 ... -18746.7825\n",
            "  -23447.973375 -11983.777625]\n",
            " [210922.766125 210951.372375 208810.898875 ... -19343.0925\n",
            "  -24546.727875 -13438.051125]\n",
            " ...\n",
            " [-17097.8075   -18746.7825   -19343.0925   ... 298739.15\n",
            "  305788.9525   291707.3075  ]\n",
            " [-22188.817125 -23447.973375 -24546.727875 ... 305788.9525\n",
            "  318843.364875 305926.022125]\n",
            " [-10920.683875 -11983.777625 -13438.051125 ... 291707.3075\n",
            "  305926.022125 300054.598875]] \n",
            "\n",
            "Eigenvectors before any operation = \n",
            " [ 2.27813013e+01+0.j  1.43850450e+01+0.j  9.66195828e+00+0.j ...\n",
            " -3.60903396e-18+0.j -1.02369321e-17+0.j -8.42373024e-18+0.j] [[-0.00383652+0.j -0.00815889+0.j  0.00175509+0.j ... -0.00463161+0.j\n",
            "  -0.00266184+0.j -0.00099154+0.j]\n",
            " [-0.00374983+0.j -0.0094247 +0.j  0.0035249 +0.j ...  0.00519604+0.j\n",
            "   0.00379624+0.j  0.0041596 +0.j]\n",
            " [-0.00129421+0.j -0.00971996+0.j  0.00265592+0.j ...  0.00421958+0.j\n",
            "   0.00261767+0.j  0.00293268+0.j]\n",
            " ...\n",
            " [ 0.03048944+0.j -0.00328256+0.j  0.00985858+0.j ... -0.00930403+0.j\n",
            "  -0.00381861+0.j -0.00521513+0.j]\n",
            " [ 0.01806736+0.j  0.01965324+0.j  0.0204666 +0.j ...  0.00434923+0.j\n",
            "  -0.00346876+0.j -0.00212927+0.j]\n",
            " [ 0.01195972+0.j  0.02043958+0.j  0.01994825+0.j ... -0.01163668+0.j\n",
            "   0.00792658+0.j -0.00064436+0.j]] \n",
            "\n",
            "Projection Matrix = \n",
            " [[-3.83651541e-03 -8.15888983e-03  1.75509377e-03 ... -1.86977064e-03\n",
            "   3.58696758e-03 -4.15045749e-05]\n",
            " [-3.74983100e-03 -9.42469730e-03  3.52489893e-03 ... -2.64211460e-03\n",
            "   4.48548207e-03 -5.72321840e-05]\n",
            " [-1.29421263e-03 -9.71996084e-03  2.65592348e-03 ... -3.77329924e-03\n",
            "   4.32942195e-03  4.40142209e-04]\n",
            " ...\n",
            " [ 3.04894423e-02 -3.28255631e-03  9.85857565e-03 ... -2.44650330e-02\n",
            "   1.96360505e-03  5.22968926e-04]\n",
            " [ 1.80673598e-02  1.96532415e-02  2.04666011e-02 ... -1.83136378e-02\n",
            "  -2.29958255e-03  7.86826733e-03]\n",
            " [ 1.19597151e-02  2.04395830e-02  1.99482473e-02 ... -1.10766947e-02\n",
            "  -6.52830456e-03  1.20270243e-02]] \n",
            "\n",
            "LDA accuracy = 0.945\n"
          ]
        }
      ],
      "source": [
        "projectionMatrix = LDA(39, trainingMatrix, trainingVector)\n",
        "\n",
        "projectedTrain = np.matmul(trainingMatrix - np.mean(trainingMatrix, axis = 0), projectionMatrix)\n",
        "projectedTest = np.matmul(testingMatrix- np.mean(testingMatrix, axis = 0), projectionMatrix)\n",
        "\n",
        "knc = KNeighborsClassifier(n_neighbors=1)\n",
        "knc.fit(projectedTrain, trainingVector)\n",
        "\n",
        "predictedLabels = knc.predict(projectedTest)\n",
        "\n",
        "accuracy = accuracy_score(testingVector, predictedLabels)\n",
        "print(f'LDA accuracy = {accuracy}')\n"
      ]
    },
    {
      "cell_type": "markdown",
      "metadata": {
        "id": "OLYU4pfpi5nP"
      },
      "source": [
        "## 6- Classifier Tuning\n"
      ]
    },
    {
      "cell_type": "code",
      "execution_count": null,
      "metadata": {
        "colab": {
          "base_uri": "https://localhost:8080/"
        },
        "id": "sS8jveqTSh-U",
        "outputId": "c3a9ec3f-2659-4197-c898-f220f2c79281"
      },
      "outputs": [
        {
          "name": "stdout",
          "output_type": "stream",
          "text": [
            "for 1 neighbors: accuracy = 0.945\n",
            "for 3 neighbors: accuracy = 0.955\n",
            "for 5 neighbors: accuracy = 0.945\n",
            "for 7 neighbors: accuracy = 0.945\n"
          ]
        }
      ],
      "source": [
        "projectedTrain = np.matmul(trainingMatrix, projectionMatrix)\n",
        "projectedTest = np.matmul(testingMatrix, projectionMatrix)\n",
        "K = [1, 3, 5, 7]\n",
        "LDA_accuracy = []\n",
        "for k in K:\n",
        "  knc = KNeighborsClassifier(n_neighbors=k)\n",
        "  knc.fit(projectedTrain, trainingVector)\n",
        "\n",
        "  predictedLabels = knc.predict(projectedTest)\n",
        "\n",
        "  accuracy = accuracy_score(testingVector, predictedLabels)\n",
        "  LDA_accuracy.append(accuracy)\n",
        "  print(f'for {k} neighbors: accuracy = {accuracy}')"
      ]
    },
    {
      "cell_type": "code",
      "execution_count": null,
      "metadata": {
        "colab": {
          "base_uri": "https://localhost:8080/"
        },
        "id": "xgQYyiBVjpaG",
        "outputId": "3fe8c350-db53-48aa-ee37-befec3624e58"
      },
      "outputs": [
        {
          "name": "stdout",
          "output_type": "stream",
          "text": [
            "for 1 neighbors: accuracy = 0.95\n",
            "for 3 neighbors: accuracy = 0.895\n",
            "for 5 neighbors: accuracy = 0.845\n",
            "for 7 neighbors: accuracy = 0.78\n"
          ]
        }
      ],
      "source": [
        "projectedData, projectionMatrix = PCA(trainingMatrix, 0.85) # Assuming a fixed alpha\n",
        "projectedTestData = np.matmul((testingMatrix - np.mean(testingMatrix, axis = 0)), projectionMatrix)\n",
        "\n",
        "PCA_accuracy = []\n",
        "for k in K:\n",
        "  knc = KNeighborsClassifier(n_neighbors=k)\n",
        "  knc.fit(projectedData, trainingVector)\n",
        "\n",
        "  predictedLabels = knc.predict(projectedTestData)\n",
        "\n",
        "  accuracy = accuracy_score(testingVector, predictedLabels)\n",
        "  PCA_accuracy.append(accuracy)\n",
        "  print(f'for {k} neighbors: accuracy = {accuracy}')"
      ]
    },
    {
      "cell_type": "code",
      "execution_count": null,
      "metadata": {
        "colab": {
          "base_uri": "https://localhost:8080/",
          "height": 279
        },
        "id": "IjMNXIE-iOCR",
        "outputId": "3e92f20a-a1ad-4c1e-cd9f-17525deae391"
      },
      "outputs": [
        {
          "data": {
            "image/png": "[encoded data removed]",
            "text/plain": [
              "<Figure size 432x288 with 1 Axes>"
            ]
          },
          "metadata": {},
          "output_type": "display_data"
        }
      ],
      "source": [
        "plt.plot(K, LDA_accuracy, label = \"LDA\")\n",
        "plt.plot(K, PCA_accuracy, label = \"PCA\")\n",
        "plt.xlabel('Number Of Neighbors')\n",
        "plt.ylabel('Accuracy')\n",
        "plt.legend()\n",
        "plt.show()"
      ]
    },
    {
      "cell_type": "markdown",
      "metadata": {
        "id": "myLwF7CHmaiK"
      },
      "source": [
        "## 7- Non-Face vs Face Classification\n"
      ]
    },
    {
      "cell_type": "code",
      "execution_count": null,
      "metadata": {
        "id": "bNEZ7x-OqV_s"
      },
      "outputs": [],
      "source": [
        "def loadNonFace():\n",
        "  images = []\n",
        "  for id in range(1,682):\n",
        "    path = f'drive/MyDrive/Pattern Lab 1 Data/Non Face Images/nonface/d ({id}).jpg'\n",
        "    image = Image.open(path)\n",
        "    image = image.resize((92, 112)).convert('L')\n",
        "    imageVector = np.asarray(image)\n",
        "    imageVector = imageVector.flatten()\n",
        "    images.append(imageVector)\n",
        "  npimages = np.array(images, dtype=np.uint8)\n",
        "\n",
        "  return npimages"
      ]
    },
    {
      "cell_type": "code",
      "execution_count": null,
      "metadata": {
        "colab": {
          "base_uri": "https://localhost:8080/"
        },
        "id": "06v7NL_2NABr",
        "outputId": "92d062ec-84c7-483d-bd85-527f69ffaa93"
      },
      "outputs": [
        {
          "output_type": "stream",
          "name": "stdout",
          "text": [
            "Mounted at /content/drive\n"
          ]
        }
      ],
      "source": [
        "from google.colab import drive\n",
        "drive.mount('/content/drive')"
      ]
    },
    {
      "cell_type": "code",
      "execution_count": 40,
      "metadata": {
        "id": "6twD-bOWo6hi"
      },
      "outputs": [],
      "source": [
        "def get_faces_nonfaces_data(faces, nonfaces, k):\n",
        "  # k: number of nonfaces in training\n",
        "  # labels: face => 1, nonface => 0\n",
        "  nonfacesTesting = nonfaces[:200]\n",
        "  nonfacesTraining = nonfaces[200:200+k]\n",
        "  facesTraining,_, facesTesting, _ = splitdataEvenly(faces, np.array([1]*400))\n",
        "  \n",
        "  hybridTraining = np.concatenate((nonfacesTraining, facesTraining), axis=0)\n",
        "  hybridTrainingLabels = np.asarray([0]*len(nonfacesTraining) + [1]*len(facesTraining))\n",
        "\n",
        "  hybridTesting = np.concatenate((nonfacesTesting, facesTesting), axis = 0) \n",
        "  hybridTestingLabels = np.asarray([0]*len(nonfacesTesting) + [1]*len(facesTesting))\n",
        "\n",
        "  return hybridTraining, hybridTrainingLabels, hybridTesting, hybridTestingLabels"
      ]
    },
    {
      "cell_type": "code",
      "source": [
        "def number_success_fail(predicted_labels, actual_labels):\n",
        "  success = [0,0]\n",
        "  fail = [0,0]\n",
        "  for i in range(len(predicted_labels)):\n",
        "    if predicted_labels[i] == actual_labels[i]:\n",
        "      success[actual_labels[i]] += 1\n",
        "    else:\n",
        "      fail[actual_labels[i]] += 1\n",
        "  return success, fail"
      ],
      "metadata": {
        "id": "gztgJqsoHeMp"
      },
      "execution_count": null,
      "outputs": []
    },
    {
      "cell_type": "code",
      "source": [
        "nonfaces = loadNonFace()\n",
        "faces = images\n",
        "training, _, testing, testingLabels = get_faces_nonfaces_data(faces, nonfaces, 100)\n",
        "\n",
        "for a in [0.8, 0.9]:\n",
        "  accuracies = []\n",
        "  n_nonfaces_images = [100,200,300]\n",
        "  for k in n_nonfaces_images:\n",
        "    training, trainingLabels, testing, testingLabels = get_faces_nonfaces_data(faces, nonfaces, k)\n",
        "\n",
        "    projectedData, projectionMatrix = PCA(training, a)\n",
        "    projectedTestData = np.matmul((testing - np.mean(testing, axis=0)), projectionMatrix)\n",
        "\n",
        "    knc = KNeighborsClassifier(n_neighbors=1)\n",
        "    knc.fit(projectedData, trainingLabels)\n",
        "\n",
        "    predictedLabels = knc.predict(projectedTestData)\n",
        "    n_success, n_fail = number_success_fail(predictedLabels, testingLabels)\n",
        "    accuracy = accuracy_score(testingLabels, predictedLabels)\n",
        "    accuracies.append(accuracy)\n",
        "    print(f'for {a}, {k}:')\n",
        "    print(f'\\tfaces #success: {n_success[1]}, #fail: {n_fail[1]} ')\n",
        "    print(f'\\tnonfaces #success: {n_success[0]}, #fail: {n_fail[0]} ')\n",
        "    print(f'\\tAccuarcy: {accuracy*100}%')\n",
        "    \n",
        "  plt.plot([100,200,300], accuracies)\n",
        "  plt.xlabel('Number Of Nonfaces Images')\n",
        "  plt.ylabel('Accuracy')\n",
        "  plt.show()"
      ],
      "metadata": {
        "id": "9O81mWSEHhH4",
        "colab": {
          "base_uri": "https://localhost:8080/",
          "height": 1000
        },
        "outputId": "750bb4dc-7470-42dc-978d-0c166b07bb92"
      },
      "execution_count": 41,
      "outputs": [
        {
          "output_type": "stream",
          "name": "stdout",
          "text": [
            "uint8 int64\n",
            "uint8 int64\n",
            "for 0.8, 100:\n",
            "\tfaces #success: 200, #fail: 0 \n",
            "\tnonfaces #success: 112, #fail: 88 \n",
            "\tAccuarcy: 78.0%\n",
            "uint8 int64\n",
            "for 0.8, 200:\n",
            "\tfaces #success: 199, #fail: 1 \n",
            "\tnonfaces #success: 168, #fail: 32 \n",
            "\tAccuarcy: 91.75%\n",
            "uint8 int64\n",
            "for 0.8, 300:\n",
            "\tfaces #success: 198, #fail: 2 \n",
            "\tnonfaces #success: 182, #fail: 18 \n",
            "\tAccuarcy: 95.0%\n"
          ]
        },
        {
          "output_type": "display_data",
          "data": {
            "text/plain": [
              "<Figure size 432x288 with 1 Axes>"
            ],
            "image/png": "[encoded data removed]"
          },
          "metadata": {
            "needs_background": "light"
          }
        },
        {
          "output_type": "stream",
          "name": "stdout",
          "text": [
            "uint8 int64\n",
            "for 0.9, 100:\n",
            "\tfaces #success: 200, #fail: 0 \n",
            "\tnonfaces #success: 105, #fail: 95 \n",
            "\tAccuarcy: 76.25%\n",
            "uint8 int64\n",
            "for 0.9, 200:\n",
            "\tfaces #success: 200, #fail: 0 \n",
            "\tnonfaces #success: 163, #fail: 37 \n",
            "\tAccuarcy: 90.75%\n",
            "uint8 int64\n",
            "for 0.9, 300:\n",
            "\tfaces #success: 200, #fail: 0 \n",
            "\tnonfaces #success: 182, #fail: 18 \n",
            "\tAccuarcy: 95.5%\n"
          ]
        },
        {
          "output_type": "display_data",
          "data": {
            "text/plain": [
              "<Figure size 432x288 with 1 Axes>"
            ],
            "image/png": "[encoded data removed]"
          },
          "metadata": {
            "needs_background": "light"
          }
        }
      ]
    },
    {
      "cell_type": "code",
      "source": [
        "print(\"LDA:\")\n",
        "\n",
        "accuracies = []\n",
        "n_nonfaces_images = [100,200,300]\n",
        "for k in n_nonfaces_images:\n",
        "  training, trainingLabels, testing, testingLabels = get_faces_nonfaces_data(faces, nonfaces, k)\n",
        "\n",
        "  projectionMatrix = LDA(1, training, trainingLabels)\n",
        "  projectedData = np.matmul((training - np.mean(training, axis=0)), projectionMatrix)\n",
        "  projectedTestData = np.matmul((testing - np.mean(testing, axis=0)), projectionMatrix)\n",
        "\n",
        "  knc = KNeighborsClassifier(n_neighbors=1)\n",
        "  knc.fit(projectedData, trainingLabels)\n",
        "\n",
        "  predictedLabels = knc.predict(projectedTestData)\n",
        "  n_success, n_fail = number_success_fail(predictedLabels, testingLabels)\n",
        "  accuracy = accuracy_score(testingLabels, predictedLabels)\n",
        "  accuracies.append(accuracy)\n",
        "  print(f'for {a}, {k}:')\n",
        "  print(f'\\tfaces #success: {n_success[1]}, #fail: {n_fail[1]} ')\n",
        "  print(f'\\tnonfaces #success: {n_success[0]}, #fail: {n_fail[0]} ')\n",
        "  print(f'\\tAccuarcy: {accuracy*100}%')\n",
        "  \n",
        "plt.plot([100,200,300], accuracies)\n",
        "plt.xlabel('Number Of Nonfaces Images')\n",
        "plt.ylabel('Accuracy')\n",
        "plt.show()"
      ],
      "metadata": {
        "id": "zFkkaEOIH2EB",
        "colab": {
          "base_uri": "https://localhost:8080/",
          "height": 1000
        },
        "outputId": "9bfa26c9-b3b8-4abe-d493-9b144aa0da69"
      },
      "execution_count": 43,
      "outputs": [
        {
          "output_type": "stream",
          "name": "stdout",
          "text": [
            "LDA:\n",
            "uint8 int64\n"
          ]
        },
        {
          "output_type": "stream",
          "name": "stderr",
          "text": [
            "/usr/local/lib/python3.9/dist-packages/numpy/core/fromnumeric.py:3474: RuntimeWarning: Mean of empty slice.\n",
            "  return _methods._mean(a, axis=axis, dtype=dtype,\n",
            "/usr/local/lib/python3.9/dist-packages/numpy/core/_methods.py:181: RuntimeWarning: invalid value encountered in true_divide\n",
            "  ret = um.true_divide(\n"
          ]
        },
        {
          "output_type": "stream",
          "name": "stdout",
          "text": [
            "The within-class matrix Sw = \n",
            " [[248302.355 247497.905 244091.245 ... -13961.5   -19951.085  -8776.955]\n",
            " [247497.905 250048.955 245411.695 ... -16306.5   -22099.935 -11044.505]\n",
            " [244091.245 245411.695 244429.155 ... -15816.5   -22812.115 -13530.645]\n",
            " ...\n",
            " [-13961.5   -16306.5   -15816.5   ... 378800.    373011.5   336508.5  ]\n",
            " [-19951.085 -22099.935 -22812.115 ... 373011.5   394047.795 361820.285]\n",
            " [ -8776.955 -11044.505 -13530.645 ... 336508.5   361820.285 377747.555]] \n",
            "\n",
            "The inverse within-class matrix Sw = \n",
            " [[ 1.27055939e-09  9.86315681e-10  8.62381760e-10 ... -3.34745417e-10\n",
            "  -3.26003734e-10 -5.87080904e-11]\n",
            " [ 9.86315681e-10  1.13555235e-09  9.30900284e-10 ... -3.35350717e-10\n",
            "  -1.98758341e-10  7.44335157e-11]\n",
            " [ 8.62381760e-10  9.30900284e-10  1.17664471e-09 ...  9.71549762e-11\n",
            "   8.62314681e-11  1.55651377e-10]\n",
            " ...\n",
            " [-3.34745417e-10 -3.35350717e-10  9.71549762e-11 ...  8.39614825e-09\n",
            "   4.87333272e-09  1.65984318e-09]\n",
            " [-3.26003734e-10 -1.98758341e-10  8.62314681e-11 ...  4.87333272e-09\n",
            "   7.37673862e-09  4.85263200e-09]\n",
            " [-5.87080904e-11  7.44335157e-11  1.55651377e-10 ...  1.65984318e-09\n",
            "   4.85263200e-09  9.03466909e-09]] \n",
            "\n",
            "The between-class matrix Sb = \n",
            " [[15871.68055556 16334.91388889 15556.91944444 ... 17109.93888889\n",
            "  16198.31944444 17356.40277778]\n",
            " [16334.91388889 16811.66722222 16010.96611111 ... 17609.31222222\n",
            "  16671.08611111 17862.96944444]\n",
            " [15556.91944444 16010.96611111 15248.40055556 ... 16770.62111111\n",
            "  15877.08055556 17012.19722222]\n",
            " ...\n",
            " [17109.93888889 17609.31222222 16770.62111111 ... 18444.80222222\n",
            "  17462.06111111 18710.49444444]\n",
            " [16198.31944444 16671.08611111 15877.08055556 ... 17462.06111111\n",
            "  16531.68055556 17713.59722222]\n",
            " [17356.40277778 17862.96944444 17012.19722222 ... 18710.49444444\n",
            "  17713.59722222 18980.01388889]] \n",
            "\n",
            "Eigenvectors before any operation = \n",
            " [ 0.00000000e+00+0.j  2.92434217e+00+0.j  5.12109951e-16+0.j ...\n",
            " -1.66252008e-21+0.j  1.18423890e-21+0.j -4.47494775e-21+0.j] [[ 0.00000000e+00+0.j  1.00157770e-02+0.j  2.98020083e-02+0.j ...\n",
            "   1.24217349e-05+0.j -9.20838106e-06+0.j -1.45768176e-05+0.j]\n",
            " [ 0.00000000e+00+0.j  1.05991781e-02+0.j -1.03593820e-02+0.j ...\n",
            "   1.59525537e-07+0.j -2.70604325e-07+0.j  5.60937630e-07+0.j]\n",
            " [ 0.00000000e+00+0.j  1.03084457e-02+0.j  5.10379306e-02+0.j ...\n",
            "  -2.27694683e-07+0.j  5.00547012e-07+0.j  2.00615375e-07+0.j]\n",
            " ...\n",
            " [ 0.00000000e+00+0.j  8.63535709e-03+0.j -5.12876176e-03+0.j ...\n",
            "   1.93398115e-07+0.j -4.89482135e-07+0.j  1.41975446e-07+0.j]\n",
            " [ 0.00000000e+00+0.j -2.02673781e-02+0.j  1.21199141e-02+0.j ...\n",
            "   8.02736196e-07+0.j -3.52635410e-06+0.j -3.46459465e-06+0.j]\n",
            " [ 0.00000000e+00+0.j -2.56676276e-02+0.j -6.25523694e-02+0.j ...\n",
            "  -2.94584287e-06+0.j  4.39869891e-06+0.j  2.35546461e-06+0.j]] \n",
            "\n",
            "Projection Matrix = \n",
            " [[ 0.01001578]\n",
            " [ 0.01059918]\n",
            " [ 0.01030845]\n",
            " ...\n",
            " [ 0.00863536]\n",
            " [-0.02026738]\n",
            " [-0.02566763]] \n",
            "\n",
            "for 0.9, 100:\n",
            "\tfaces #success: 188, #fail: 12 \n",
            "\tnonfaces #success: 155, #fail: 45 \n",
            "\tAccuarcy: 85.75%\n",
            "uint8 int64\n"
          ]
        },
        {
          "output_type": "stream",
          "name": "stderr",
          "text": [
            "/usr/local/lib/python3.9/dist-packages/numpy/core/fromnumeric.py:3474: RuntimeWarning: Mean of empty slice.\n",
            "  return _methods._mean(a, axis=axis, dtype=dtype,\n",
            "/usr/local/lib/python3.9/dist-packages/numpy/core/_methods.py:181: RuntimeWarning: invalid value encountered in true_divide\n",
            "  ret = um.true_divide(\n"
          ]
        },
        {
          "output_type": "stream",
          "name": "stdout",
          "text": [
            "The within-class matrix Sw = \n",
            " [[248302.355 247497.905 244091.245 ... -13961.5   -19951.085  -8776.955]\n",
            " [247497.905 250048.955 245411.695 ... -16306.5   -22099.935 -11044.505]\n",
            " [244091.245 245411.695 244429.155 ... -15816.5   -22812.115 -13530.645]\n",
            " ...\n",
            " [-13961.5   -16306.5   -15816.5   ... 378800.    373011.5   336508.5  ]\n",
            " [-19951.085 -22099.935 -22812.115 ... 373011.5   394047.795 361820.285]\n",
            " [ -8776.955 -11044.505 -13530.645 ... 336508.5   361820.285 377747.555]] \n",
            "\n",
            "The inverse within-class matrix Sw = \n",
            " [[ 1.27055939e-09  9.86315681e-10  8.62381760e-10 ... -3.34745417e-10\n",
            "  -3.26003734e-10 -5.87080904e-11]\n",
            " [ 9.86315681e-10  1.13555235e-09  9.30900284e-10 ... -3.35350717e-10\n",
            "  -1.98758341e-10  7.44335157e-11]\n",
            " [ 8.62381760e-10  9.30900284e-10  1.17664471e-09 ...  9.71549762e-11\n",
            "   8.62314681e-11  1.55651377e-10]\n",
            " ...\n",
            " [-3.34745417e-10 -3.35350717e-10  9.71549762e-11 ...  8.39614825e-09\n",
            "   4.87333272e-09  1.65984318e-09]\n",
            " [-3.26003734e-10 -1.98758341e-10  8.62314681e-11 ...  4.87333272e-09\n",
            "   7.37673862e-09  4.85263200e-09]\n",
            " [-5.87080904e-11  7.44335157e-11  1.55651377e-10 ...  1.65984318e-09\n",
            "   4.85263200e-09  9.03466909e-09]] \n",
            "\n",
            "The between-class matrix Sb = \n",
            " [[157613.05125 158960.53125 159872.8875  ... 163985.50875 158525.4075\n",
            "  158735.95125]\n",
            " [158960.53125 160319.53125 161239.6875  ... 165387.46875 159880.6875\n",
            "  160093.03125]\n",
            " [159872.8875  161239.6875  162165.125   ... 166336.7125  160798.325\n",
            "  161011.8875 ]\n",
            " ...\n",
            " [163985.50875 165387.46875 166336.7125  ... 170615.61125 164934.7525\n",
            "  165153.80875]\n",
            " [158525.4075  159880.6875  160798.325   ... 164934.7525  159443.045\n",
            "  159654.8075 ]\n",
            " [158735.95125 160093.03125 161011.8875  ... 165153.80875 159654.8075\n",
            "  159866.85125]] \n",
            "\n",
            "Eigenvectors before any operation = \n",
            " [ 1.14151530e+01+0.00000000e+00j  1.23943998e-15+1.32495758e-15j\n",
            "  1.23943998e-15-1.32495758e-15j ...  6.90967656e-21+0.00000000e+00j\n",
            " -1.10912573e-20+0.00000000e+00j  2.63762356e-20+0.00000000e+00j] [[-1.48977159e-02+0.j         -1.35899807e-02-0.01866307j\n",
            "  -1.35899807e-02+0.01866307j ... -3.53863113e-04+0.j\n",
            "   2.30083636e-04+0.j         -5.19347550e-04+0.j        ]\n",
            " [-1.52763744e-02+0.j          3.79986980e-02-0.01992847j\n",
            "   3.79986980e-02+0.01992847j ...  1.23563346e-05+0.j\n",
            "   5.32841941e-06+0.j          1.30356009e-05+0.j        ]\n",
            " [-1.44198808e-02+0.j         -1.26632749e-02+0.02012523j\n",
            "  -1.26632749e-02-0.02012523j ...  2.05746527e-05+0.j\n",
            "  -1.74050753e-05+0.j          2.38366625e-05+0.j        ]\n",
            " ...\n",
            " [-1.44217629e-02+0.j         -2.28248012e-03+0.02591074j\n",
            "  -2.28248012e-03-0.02591074j ...  7.50506836e-05+0.j\n",
            "  -3.95231956e-05+0.j          2.20921012e-04+0.j        ]\n",
            " [ 1.52587635e-02+0.j         -1.72841181e-02-0.00365523j\n",
            "  -1.72841181e-02+0.00365523j ... -2.41685363e-05+0.j\n",
            "   4.40843895e-05+0.j         -2.00810444e-05+0.j        ]\n",
            " [ 1.73858240e-02+0.j          1.84079180e-02-0.01381696j\n",
            "   1.84079180e-02+0.01381696j ...  4.04418699e-06+0.j\n",
            "  -4.27196959e-06+0.j          2.70716660e-05+0.j        ]] \n",
            "\n",
            "Projection Matrix = \n",
            " [[-0.01489772]\n",
            " [-0.01527637]\n",
            " [-0.01441988]\n",
            " ...\n",
            " [-0.01442176]\n",
            " [ 0.01525876]\n",
            " [ 0.01738582]] \n",
            "\n",
            "for 0.9, 200:\n",
            "\tfaces #success: 120, #fail: 80 \n",
            "\tnonfaces #success: 181, #fail: 19 \n",
            "\tAccuarcy: 75.25%\n",
            "uint8 int64\n"
          ]
        },
        {
          "output_type": "stream",
          "name": "stderr",
          "text": [
            "/usr/local/lib/python3.9/dist-packages/numpy/core/fromnumeric.py:3474: RuntimeWarning: Mean of empty slice.\n",
            "  return _methods._mean(a, axis=axis, dtype=dtype,\n",
            "/usr/local/lib/python3.9/dist-packages/numpy/core/_methods.py:181: RuntimeWarning: invalid value encountered in true_divide\n",
            "  ret = um.true_divide(\n"
          ]
        },
        {
          "output_type": "stream",
          "name": "stdout",
          "text": [
            "The within-class matrix Sw = \n",
            " [[248302.355 247497.905 244091.245 ... -13961.5   -19951.085  -8776.955]\n",
            " [247497.905 250048.955 245411.695 ... -16306.5   -22099.935 -11044.505]\n",
            " [244091.245 245411.695 244429.155 ... -15816.5   -22812.115 -13530.645]\n",
            " ...\n",
            " [-13961.5   -16306.5   -15816.5   ... 378800.    373011.5   336508.5  ]\n",
            " [-19951.085 -22099.935 -22812.115 ... 373011.5   394047.795 361820.285]\n",
            " [ -8776.955 -11044.505 -13530.645 ... 336508.5   361820.285 377747.555]] \n",
            "\n",
            "The inverse within-class matrix Sw = \n",
            " [[ 1.27055939e-09  9.86315681e-10  8.62381760e-10 ... -3.34745417e-10\n",
            "  -3.26003734e-10 -5.87080904e-11]\n",
            " [ 9.86315681e-10  1.13555235e-09  9.30900284e-10 ... -3.35350717e-10\n",
            "  -1.98758341e-10  7.44335157e-11]\n",
            " [ 8.62381760e-10  9.30900284e-10  1.17664471e-09 ...  9.71549762e-11\n",
            "   8.62314681e-11  1.55651377e-10]\n",
            " ...\n",
            " [-3.34745417e-10 -3.35350717e-10  9.71549762e-11 ...  8.39614825e-09\n",
            "   4.87333272e-09  1.65984318e-09]\n",
            " [-3.26003734e-10 -1.98758341e-10  8.62314681e-11 ...  4.87333272e-09\n",
            "   7.37673862e-09  4.85263200e-09]\n",
            " [-5.87080904e-11  7.44335157e-11  1.55651377e-10 ...  1.65984318e-09\n",
            "   4.85263200e-09  9.03466909e-09]] \n",
            "\n",
            "The between-class matrix Sb = \n",
            " [[280515.4802 282807.4814 286627.4834 ... 310453.8096 304154.5514\n",
            "  305592.6698]\n",
            " [282807.4814 285118.2098 288969.4238 ... 312990.4272 306639.6998\n",
            "  308089.5686]\n",
            " [286627.4834 288969.4238 292872.6578 ... 317218.1232 310781.6138\n",
            "  312251.0666]\n",
            " ...\n",
            " [310453.8096 312990.4272 317218.1232 ... 343587.3408 336615.7872\n",
            "  338207.3904]\n",
            " [304154.5514 306639.6998 310781.6138 ... 336615.7872 329785.6898\n",
            "  331344.9986]\n",
            " [305592.6698 308089.5686 312251.0666 ... 338207.3904 331344.9986\n",
            "  332911.6802]] \n",
            "\n",
            "Eigenvectors before any operation = \n",
            " [1.91595406e+01+0.00000000e+00j 4.91498013e-15+0.00000000e+00j\n",
            " 3.53339966e-16+4.18339779e-15j ... 4.65962438e-20+8.05242856e-20j\n",
            " 4.65962438e-20-8.05242856e-20j 1.49917436e-19+0.00000000e+00j] [[-1.57902883e-02+0.00000000e+00j  1.15842966e-02+0.00000000e+00j\n",
            "  -3.07632609e-03+3.37174859e-03j ...  3.14473723e-05-3.97371412e-05j\n",
            "   3.14473723e-05+3.97371412e-05j -6.32723856e-05+0.00000000e+00j]\n",
            " [-1.60301247e-02+0.00000000e+00j  2.62029170e-02+0.00000000e+00j\n",
            "  -1.27201900e-02-2.20872769e-02j ...  3.93056273e-05+8.17549054e-06j\n",
            "   3.93056273e-05-8.17549054e-06j -1.59909245e-05+0.00000000e+00j]\n",
            " [-1.55549998e-02+0.00000000e+00j  2.09713141e-02+0.00000000e+00j\n",
            "   9.83213994e-03-4.18442231e-03j ... -1.10408793e-04-9.95153045e-06j\n",
            "  -1.10408793e-04+9.95153045e-06j -3.30160826e-05+0.00000000e+00j]\n",
            " ...\n",
            " [-1.91631133e-02+0.00000000e+00j -4.23994812e-02+0.00000000e+00j\n",
            "   3.66821037e-03-6.98572293e-04j ... -4.71414394e-05+2.46636931e-05j\n",
            "  -4.71414394e-05-2.46636931e-05j -6.62836202e-06+0.00000000e+00j]\n",
            " [ 4.93930917e-03+0.00000000e+00j -1.37895560e-03+0.00000000e+00j\n",
            "   8.53039297e-03+5.73544630e-03j ...  2.03947313e-05-1.08279691e-04j\n",
            "   2.03947313e-05+1.08279691e-04j  3.56801265e-05+0.00000000e+00j]\n",
            " [ 6.55097842e-03+0.00000000e+00j  1.88053184e-02+0.00000000e+00j\n",
            "  -4.07612169e-03+7.80110235e-03j ...  1.82048637e-05+2.91744878e-05j\n",
            "   1.82048637e-05-2.91744878e-05j -2.11572045e-05+0.00000000e+00j]] \n",
            "\n",
            "Projection Matrix = \n",
            " [[-0.01579029]\n",
            " [-0.01603012]\n",
            " [-0.015555  ]\n",
            " ...\n",
            " [-0.01916311]\n",
            " [ 0.00493931]\n",
            " [ 0.00655098]] \n",
            "\n",
            "for 0.9, 300:\n",
            "\tfaces #success: 61, #fail: 139 \n",
            "\tnonfaces #success: 189, #fail: 11 \n",
            "\tAccuarcy: 62.5%\n"
          ]
        },
        {
          "output_type": "display_data",
          "data": {
            "text/plain": [
              "<Figure size 432x288 with 1 Axes>"
            ],
            "image/png": "[encoded data removed]"
          },
          "metadata": {
            "needs_background": "light"
          }
        }
      ]
    },
    {
      "cell_type": "markdown",
      "metadata": {
        "id": "VJQIjlxGmjvn"
      },
      "source": [
        "## Bonus-1"
      ]
    },
    {
      "cell_type": "code",
      "execution_count": null,
      "metadata": {
        "id": "O-TlSgFwH5Hc"
      },
      "outputs": [],
      "source": [
        "def splitdata(dataMatrix, labelVector, noOfSamplesTrain, noOfSamplesTest): \n",
        "  k = 0\n",
        "  print(dataMatrix.dtype, labelVector.dtype)\n",
        "  trainingMatrix = np.zeros((int(dataMatrix.shape[0]/2), dataMatrix.shape[1]), dtype=np.uint8)\n",
        "  trainingVector = np.zeros(int(labelVector.shape[0]/2), dtype=np.uint8)\n",
        "  testingMatrix = np.zeros((int(dataMatrix.shape[0]/2), dataMatrix.shape[1]), dtype=np.uint8)\n",
        "  testingVector = np.zeros(int(labelVector.shape[0]/2), dtype=np.uint8)\n",
        "  for i in range(dataMatrix.shape[0]):\n",
        "    if (k >= 0 and k < noOfSamplesTrain):\n",
        "      trainingMatrix[int(i/2)] = dataMatrix[i]\n",
        "      trainingVector[int(i/2)] = labelVector[i]\n",
        "    elif(k >= noOfSamplesTrain and k < noOfSamplesTest + noOfSamplesTrain):\n",
        "      testingMatrix[floor(i/2)] = dataMatrix[i]\n",
        "      testingVector[floor(i/2)] = labelVector[i]\n",
        "    else:\n",
        "      k = 0\n",
        "    k += 1\n",
        "  return trainingMatrix, trainingVector, testingMatrix, testingVector\n",
        "    \n"
      ]
    },
    {
      "cell_type": "code",
      "execution_count": null,
      "metadata": {
        "colab": {
          "base_uri": "https://localhost:8080/"
        },
        "id": "8tS-9AY_I0Uq",
        "outputId": "4af91610-7f4c-4ba9-df22-ecc9b96f34ef"
      },
      "outputs": [
        {
          "name": "stdout",
          "output_type": "stream",
          "text": [
            "uint8 uint8\n"
          ]
        }
      ],
      "source": [
        "trainingMatrix2, trainingVector2, testingMatrix2, testingVector2 = splitdata(images, labels, 7, 3)"
      ]
    },
    {
      "cell_type": "code",
      "execution_count": null,
      "metadata": {
        "id": "dR3K5HaRKZzA"
      },
      "outputs": [],
      "source": [
        "projectionMatrix2 = LDA(39, trainingMatrix2, trainingVector2, len(np.unique(trainingVector2)))"
      ]
    },
    {
      "cell_type": "code",
      "execution_count": null,
      "metadata": {
        "colab": {
          "base_uri": "https://localhost:8080/"
        },
        "id": "VRtElqzUK85s",
        "outputId": "ab0d3059-52b2-42bd-bd39-1276f2e16a6b"
      },
      "outputs": [
        {
          "name": "stdout",
          "output_type": "stream",
          "text": [
            "for 1 neighbors: accuracy = 0.97\n",
            "for 3 neighbors: accuracy = 0.945\n",
            "for 5 neighbors: accuracy = 0.96\n",
            "for 7 neighbors: accuracy = 0.95\n"
          ]
        }
      ],
      "source": [
        "projectedTrain2 = np.matmul(trainingMatrix2, projectionMatrix2)\n",
        "projectedTest2 = np.matmul(testingMatrix2, projectionMatrix2)\n",
        "K = [1, 3, 5, 7]\n",
        "accu = []\n",
        "for k in K:\n",
        "  knc = KNeighborsClassifier(n_neighbors=k)\n",
        "  knc.fit(projectedTrain2, trainingVector2)\n",
        "\n",
        "  predictedLabels = knc.predict(projectedTest2)\n",
        "\n",
        "  accuracy = accuracy_score(testingVector2, predictedLabels)\n",
        "  accu.append(accuracy)\n",
        "  print(f'for {k} neighbors: accuracy = {accuracy}')"
      ]
    },
    {
      "cell_type": "markdown",
      "metadata": {
        "id": "T_LwlIVimuwi"
      },
      "source": [
        "## Bonus-2\n"
      ]
    },
    {
      "cell_type": "markdown",
      "metadata": {
        "id": "Lk6Ts6fT50r7"
      },
      "source": [
        "Random PCA chooses random projection which makes it fast but not well suited for high dimensional data. Time Complexity = O(nkd)\n",
        "\n",
        "[More info](https://mda.tools/docs/pca--randomized-algorithm.html)"
      ]
    },
    {
      "cell_type": "code",
      "execution_count": null,
      "metadata": {
        "colab": {
          "base_uri": "https://localhost:8080/"
        },
        "id": "E2X219VjmxiF",
        "outputId": "a7f982e2-8e7f-49cf-e5ad-0a4c759ca000"
      },
      "outputs": [
        {
          "name": "stdout",
          "output_type": "stream",
          "text": [
            "for 1 neighbors: accuracy = 0.95\n",
            "for 3 neighbors: accuracy = 0.895\n",
            "for 5 neighbors: accuracy = 0.85\n",
            "for 7 neighbors: accuracy = 0.78\n"
          ]
        }
      ],
      "source": [
        "randPCA = RPCA(n_components=50, svd_solver='randomized')\n",
        "projectedData = randPCA.fit_transform(trainingMatrix)\n",
        "projectedTestData = randPCA.transform(testingMatrix)\n",
        "K = [1, 3, 5, 7]\n",
        "for k in K:\n",
        "  knc = KNeighborsClassifier(n_neighbors=k)\n",
        "  knc.fit(projectedData, trainingVector)\n",
        "  predictedLabels = knc.predict(projectedTestData)\n",
        "  accuracy = accuracy_score(testingVector, predictedLabels)\n",
        "  print(f'for {k} neighbors: accuracy = {accuracy}')"
      ]
    },
    {
      "cell_type": "markdown",
      "metadata": {
        "id": "B8LXgl6T9E0G"
      },
      "source": [
        "Quadratic Discriminant Analysis is a generalization of LDA that can learn quadratic boundaries and assumes a gaussian distribution for classes.\n",
        "\n",
        "[More Info](https://scikit-learn.org/0.16/auto_examples/classification/plot_lda_qda.html#example-classification-plot-lda-qda-py)"
      ]
    },
    {
      "cell_type": "code",
      "execution_count": null,
      "metadata": {
        "colab": {
          "base_uri": "https://localhost:8080/"
        },
        "id": "GusVRgDK5ylT",
        "outputId": "111734f9-2c16-422d-f7c6-ed7ac297f771"
      },
      "outputs": [
        {
          "name": "stderr",
          "output_type": "stream",
          "text": [
            "/usr/local/lib/python3.9/dist-packages/sklearn/discriminant_analysis.py:926: UserWarning: Variables are collinear\n",
            "  warnings.warn(\"Variables are collinear\")\n"
          ]
        },
        {
          "name": "stdout",
          "output_type": "stream",
          "text": [
            "accuracy = 0.05\n"
          ]
        }
      ],
      "source": [
        "qda = QDA()\n",
        "qda.fit(trainingMatrix, trainingVector)\n",
        "predictedLabels = qda.predict(testingMatrix)\n",
        "accuracy = accuracy_score(testingVector, predictedLabels)\n",
        "print(f'accuracy = {accuracy}')\n"
      ]
    }
  ],
  "metadata": {
    "colab": {
      "provenance": []
    },
    "kernelspec": {
      "display_name": "Python 3",
      "name": "python3"
    },
    "language_info": {
      "name": "python"
    }
  },
  "nbformat": 4,
  "nbformat_minor": 0
}